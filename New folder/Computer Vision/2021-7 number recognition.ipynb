{
 "cells": [
  {
   "cell_type": "markdown",
   "metadata": {},
   "source": [
    "# Input the necessary packages"
   ]
  },
  {
   "cell_type": "code",
   "execution_count": 1,
   "metadata": {},
   "outputs": [],
   "source": [
    "import numpy as np"
   ]
  },
  {
   "cell_type": "markdown",
   "metadata": {},
   "source": [
    "## check the keras status"
   ]
  },
  {
   "cell_type": "code",
   "execution_count": 2,
   "metadata": {},
   "outputs": [],
   "source": [
    "import keras"
   ]
  },
  {
   "cell_type": "code",
   "execution_count": 3,
   "metadata": {},
   "outputs": [
    {
     "data": {
      "text/plain": [
       "'2.4.3'"
      ]
     },
     "execution_count": 3,
     "metadata": {},
     "output_type": "execute_result"
    }
   ],
   "source": [
    "keras.__version__"
   ]
  },
  {
   "cell_type": "code",
   "execution_count": 4,
   "metadata": {},
   "outputs": [],
   "source": [
    "from keras.models import Sequential"
   ]
  },
  {
   "cell_type": "code",
   "execution_count": 5,
   "metadata": {},
   "outputs": [],
   "source": [
    "from keras.datasets import mnist\n",
    "from keras.layers import Dense, Dropout, Activation, Flatten"
   ]
  },
  {
   "cell_type": "code",
   "execution_count": 6,
   "metadata": {},
   "outputs": [],
   "source": [
    "from keras.utils import np_utils # let label transit to 0ne-hot-encoding"
   ]
  },
  {
   "cell_type": "code",
   "execution_count": 7,
   "metadata": {},
   "outputs": [],
   "source": [
    "from matplotlib import pyplot as plt\n",
    "import cv2"
   ]
  },
  {
   "cell_type": "code",
   "execution_count": 8,
   "metadata": {},
   "outputs": [],
   "source": [
    "(X_train, y_train), (X_test, y_test) = mnist.load_data()  # grouping the minst's data to train and test group\n"
   ]
  },
  {
   "cell_type": "code",
   "execution_count": 9,
   "metadata": {},
   "outputs": [
    {
     "name": "stdout",
     "output_type": "stream",
     "text": [
      "(10000, 28, 28)\n"
     ]
    }
   ],
   "source": [
    "print(X_test.shape)  #there are 10000 test images, and the image is in 28 x 28 format"
   ]
  },
  {
   "cell_type": "code",
   "execution_count": 10,
   "metadata": {},
   "outputs": [
    {
     "name": "stdout",
     "output_type": "stream",
     "text": [
      "(10000,)\n"
     ]
    }
   ],
   "source": [
    "print(y_test.shape) # the corresponging number with respect to 10000 images is 10000 as predicted"
   ]
  },
  {
   "cell_type": "code",
   "execution_count": 11,
   "metadata": {},
   "outputs": [],
   "source": [
    "model = Sequential() # create linear implementing model"
   ]
  },
  {
   "cell_type": "code",
   "execution_count": 12,
   "metadata": {},
   "outputs": [],
   "source": [
    "model.add(Dense(units=256, input_dim=784, kernel_initializer='normal', activation='relu')) # add input layer and hidden layer"
   ]
  },
  {
   "cell_type": "code",
   "execution_count": 13,
   "metadata": {},
   "outputs": [],
   "source": [
    "model.add(Dense(units=10, kernel_initializer='normal', activation='softmax')) # add output layer\n"
   ]
  },
  {
   "cell_type": "code",
   "execution_count": 14,
   "metadata": {},
   "outputs": [],
   "source": [
    "model.compile(loss='categorical_crossentropy', optimizer='adam', metrics=['accuracy']) # Compilation: Choose loss function, optimization method and effectiveness measurement method"
   ]
  },
  {
   "cell_type": "code",
   "execution_count": 15,
   "metadata": {},
   "outputs": [],
   "source": [
    "y_TrainOneHot = np_utils.to_categorical(y_train)"
   ]
  },
  {
   "cell_type": "code",
   "execution_count": 16,
   "metadata": {},
   "outputs": [],
   "source": [
    "y_TestOneHot = np_utils.to_categorical(y_test)"
   ]
  },
  {
   "cell_type": "code",
   "execution_count": 17,
   "metadata": {},
   "outputs": [],
   "source": [
    "X_train_2D = X_train.reshape(60000, 28*28).astype('float32')\n",
    "X_test_2D = X_test.reshape(10000, 28*28).astype('float32') # 2D-1D"
   ]
  },
  {
   "cell_type": "markdown",
   "metadata": {},
   "source": [
    "# check the train images"
   ]
  },
  {
   "cell_type": "code",
   "execution_count": 18,
   "metadata": {},
   "outputs": [
    {
     "name": "stdout",
     "output_type": "stream",
     "text": [
      "(60000, 28, 28)\n"
     ]
    }
   ],
   "source": [
    "print(X_train.shape) #there are 10000 test images, and the image is in 28 x 28 format"
   ]
  },
  {
   "cell_type": "code",
   "execution_count": 19,
   "metadata": {},
   "outputs": [
    {
     "name": "stdout",
     "output_type": "stream",
     "text": [
      "(60000,)\n"
     ]
    }
   ],
   "source": [
    "print(y_train.shape)"
   ]
  },
  {
   "cell_type": "code",
   "execution_count": 20,
   "metadata": {},
   "outputs": [
    {
     "name": "stdout",
     "output_type": "stream",
     "text": [
      "X_test_2D:  (10000, 784)\n"
     ]
    }
   ],
   "source": [
    "print(\"X_test_2D: \",X_test_2D.shape)\n"
   ]
  },
  {
   "cell_type": "code",
   "execution_count": 21,
   "metadata": {},
   "outputs": [
    {
     "name": "stdout",
     "output_type": "stream",
     "text": [
      "X_train_2d (60000, 784)\n"
     ]
    }
   ],
   "source": [
    "print('X_train_2d',X_train_2D.shape)"
   ]
  },
  {
   "cell_type": "code",
   "execution_count": 22,
   "metadata": {},
   "outputs": [],
   "source": [
    "x_Train_norm = X_train_2D/255\n",
    "x_Test_norm = X_test_2D/255 # important process"
   ]
  },
  {
   "cell_type": "code",
   "execution_count": 23,
   "metadata": {},
   "outputs": [
    {
     "name": "stdout",
     "output_type": "stream",
     "text": [
      "313/313 [==============================] - 1s 2ms/step - loss: 2.3260 - accuracy: 0.1020\n"
     ]
    }
   ],
   "source": [
    "scores = model.evaluate(x_Test_norm, y_TestOneHot) #before traing the model"
   ]
  },
  {
   "cell_type": "code",
   "execution_count": 24,
   "metadata": {},
   "outputs": [
    {
     "name": "stdout",
     "output_type": "stream",
     "text": [
      "\t[Info] Accuracy of testing data = 10.2%\n"
     ]
    }
   ],
   "source": [
    "print(\"\\t[Info] Accuracy of testing data = {:2.1f}%\".format(scores[1]*100.0))"
   ]
  },
  {
   "cell_type": "code",
   "execution_count": 25,
   "metadata": {},
   "outputs": [
    {
     "name": "stdout",
     "output_type": "stream",
     "text": [
      "WARNING:tensorflow:From <ipython-input-25-259b583eb7c7>:2: Sequential.predict_classes (from tensorflow.python.keras.engine.sequential) is deprecated and will be removed after 2021-01-01.\n",
      "Instructions for updating:\n",
      "Please use instead:* `np.argmax(model.predict(x), axis=-1)`,   if your model does multi-class classification   (e.g. if it uses a `softmax` last-layer activation).* `(model.predict(x) > 0.5).astype(\"int32\")`,   if your model does binary classification   (e.g. if it uses a `sigmoid` last-layer activation).\n"
     ]
    }
   ],
   "source": [
    "X = x_Test_norm[11:20,:]\n",
    "predictions = model.predict_classes(X)"
   ]
  },
  {
   "cell_type": "code",
   "execution_count": 26,
   "metadata": {},
   "outputs": [
    {
     "name": "stdout",
     "output_type": "stream",
     "text": [
      "[2 1 9 8 2 2 9 9 4]\n"
     ]
    }
   ],
   "source": [
    "print(predictions)"
   ]
  },
  {
   "cell_type": "code",
   "execution_count": 27,
   "metadata": {},
   "outputs": [],
   "source": [
    "img=cv2.imread('5.png', cv2.IMREAD_GRAYSCALE)"
   ]
  },
  {
   "cell_type": "code",
   "execution_count": 28,
   "metadata": {},
   "outputs": [
    {
     "ename": "error",
     "evalue": "OpenCV(4.5.1) C:\\Users\\appveyor\\AppData\\Local\\Temp\\1\\pip-req-build-kh7iq4w7\\opencv\\modules\\imgproc\\src\\resize.cpp:4051: error: (-215:Assertion failed) !ssize.empty() in function 'cv::resize'\n",
     "output_type": "error",
     "traceback": [
      "\u001b[1;31m---------------------------------------------------------------------------\u001b[0m",
      "\u001b[1;31merror\u001b[0m                                     Traceback (most recent call last)",
      "\u001b[1;32m<ipython-input-28-43b7f8e2c702>\u001b[0m in \u001b[0;36m<module>\u001b[1;34m\u001b[0m\n\u001b[0;32m      1\u001b[0m \u001b[0mcrop_size\u001b[0m \u001b[1;33m=\u001b[0m \u001b[1;33m(\u001b[0m\u001b[1;36m28\u001b[0m\u001b[1;33m,\u001b[0m \u001b[1;36m28\u001b[0m\u001b[1;33m)\u001b[0m\u001b[1;33m\u001b[0m\u001b[1;33m\u001b[0m\u001b[0m\n\u001b[1;32m----> 2\u001b[1;33m \u001b[0mimg\u001b[0m \u001b[1;33m=\u001b[0m \u001b[0mcv2\u001b[0m\u001b[1;33m.\u001b[0m\u001b[0mresize\u001b[0m\u001b[1;33m(\u001b[0m\u001b[0mimg\u001b[0m\u001b[1;33m,\u001b[0m \u001b[0mcrop_size\u001b[0m\u001b[1;33m,\u001b[0m \u001b[0minterpolation\u001b[0m \u001b[1;33m=\u001b[0m \u001b[0mcv2\u001b[0m\u001b[1;33m.\u001b[0m\u001b[0mINTER_CUBIC\u001b[0m\u001b[1;33m)\u001b[0m\u001b[1;33m\u001b[0m\u001b[1;33m\u001b[0m\u001b[0m\n\u001b[0m",
      "\u001b[1;31merror\u001b[0m: OpenCV(4.5.1) C:\\Users\\appveyor\\AppData\\Local\\Temp\\1\\pip-req-build-kh7iq4w7\\opencv\\modules\\imgproc\\src\\resize.cpp:4051: error: (-215:Assertion failed) !ssize.empty() in function 'cv::resize'\n"
     ]
    }
   ],
   "source": [
    "crop_size = (28, 28)\n",
    "img = cv2.resize(img, crop_size, interpolation = cv2.INTER_CUBIC)"
   ]
  },
  {
   "cell_type": "code",
   "execution_count": null,
   "metadata": {},
   "outputs": [],
   "source": [
    "cv2.imshow('My Image', img)"
   ]
  },
  {
   "cell_type": "code",
   "execution_count": null,
   "metadata": {},
   "outputs": [],
   "source": [
    "cv2.waitKey(0)\n",
    "cv2.destroyAllWindows()\n"
   ]
  },
  {
   "cell_type": "code",
   "execution_count": null,
   "metadata": {},
   "outputs": [],
   "source": [
    "img_2D = img.reshape(1,28*28).astype('float32')\n",
    "img_norm=img_2D/255\n",
    "img = img_norm\n",
    "predictions = model.predict_classes(img)"
   ]
  },
  {
   "cell_type": "code",
   "execution_count": null,
   "metadata": {},
   "outputs": [],
   "source": [
    "print(predictions)"
   ]
  },
  {
   "cell_type": "markdown",
   "metadata": {},
   "source": [
    "# now we are going to train the data to get model"
   ]
  },
  {
   "cell_type": "code",
   "execution_count": 29,
   "metadata": {},
   "outputs": [
    {
     "name": "stdout",
     "output_type": "stream",
     "text": [
      "Epoch 1/100\n",
      "60/60 - 1s - loss: 0.7739 - accuracy: 0.8119 - val_loss: 0.3206 - val_accuracy: 0.9108\n",
      "Epoch 2/100\n",
      "60/60 - 1s - loss: 0.2960 - accuracy: 0.9169 - val_loss: 0.2419 - val_accuracy: 0.9320\n",
      "Epoch 3/100\n",
      "60/60 - 1s - loss: 0.2310 - accuracy: 0.9348 - val_loss: 0.2036 - val_accuracy: 0.9435\n",
      "Epoch 4/100\n",
      "60/60 - 1s - loss: 0.1909 - accuracy: 0.9468 - val_loss: 0.1746 - val_accuracy: 0.9524\n",
      "Epoch 5/100\n",
      "60/60 - 1s - loss: 0.1622 - accuracy: 0.9540 - val_loss: 0.1597 - val_accuracy: 0.9533\n",
      "Epoch 6/100\n",
      "60/60 - 1s - loss: 0.1424 - accuracy: 0.9601 - val_loss: 0.1448 - val_accuracy: 0.9578\n",
      "Epoch 7/100\n",
      "60/60 - 1s - loss: 0.1247 - accuracy: 0.9649 - val_loss: 0.1305 - val_accuracy: 0.9627\n",
      "Epoch 8/100\n",
      "60/60 - 1s - loss: 0.1097 - accuracy: 0.9697 - val_loss: 0.1238 - val_accuracy: 0.9640\n",
      "Epoch 9/100\n",
      "60/60 - 1s - loss: 0.0983 - accuracy: 0.9728 - val_loss: 0.1173 - val_accuracy: 0.9661\n",
      "Epoch 10/100\n",
      "60/60 - 1s - loss: 0.0885 - accuracy: 0.9756 - val_loss: 0.1092 - val_accuracy: 0.9677\n",
      "Epoch 11/100\n",
      "60/60 - 1s - loss: 0.0799 - accuracy: 0.9781 - val_loss: 0.1057 - val_accuracy: 0.9696\n",
      "Epoch 12/100\n",
      "60/60 - 1s - loss: 0.0719 - accuracy: 0.9806 - val_loss: 0.1035 - val_accuracy: 0.9707\n",
      "Epoch 13/100\n",
      "60/60 - 1s - loss: 0.0653 - accuracy: 0.9825 - val_loss: 0.0992 - val_accuracy: 0.9703\n",
      "Epoch 14/100\n",
      "60/60 - 1s - loss: 0.0607 - accuracy: 0.9835 - val_loss: 0.0967 - val_accuracy: 0.9715\n",
      "Epoch 15/100\n",
      "60/60 - 1s - loss: 0.0541 - accuracy: 0.9853 - val_loss: 0.0933 - val_accuracy: 0.9727\n",
      "Epoch 16/100\n",
      "60/60 - 1s - loss: 0.0497 - accuracy: 0.9870 - val_loss: 0.0908 - val_accuracy: 0.9734\n",
      "Epoch 17/100\n",
      "60/60 - 1s - loss: 0.0455 - accuracy: 0.9881 - val_loss: 0.0894 - val_accuracy: 0.9740\n",
      "Epoch 18/100\n",
      "60/60 - 1s - loss: 0.0415 - accuracy: 0.9897 - val_loss: 0.0920 - val_accuracy: 0.9728\n",
      "Epoch 19/100\n",
      "60/60 - 1s - loss: 0.0385 - accuracy: 0.9904 - val_loss: 0.0883 - val_accuracy: 0.9738\n",
      "Epoch 20/100\n",
      "60/60 - 1s - loss: 0.0356 - accuracy: 0.9912 - val_loss: 0.0870 - val_accuracy: 0.9747\n",
      "Epoch 21/100\n",
      "60/60 - 1s - loss: 0.0327 - accuracy: 0.9923 - val_loss: 0.0863 - val_accuracy: 0.9734\n",
      "Epoch 22/100\n",
      "60/60 - 1s - loss: 0.0296 - accuracy: 0.9935 - val_loss: 0.0859 - val_accuracy: 0.9743\n",
      "Epoch 23/100\n",
      "60/60 - 1s - loss: 0.0273 - accuracy: 0.9944 - val_loss: 0.0861 - val_accuracy: 0.9755\n",
      "Epoch 24/100\n",
      "60/60 - 1s - loss: 0.0251 - accuracy: 0.9949 - val_loss: 0.0836 - val_accuracy: 0.9755\n",
      "Epoch 25/100\n",
      "60/60 - 1s - loss: 0.0232 - accuracy: 0.9954 - val_loss: 0.0829 - val_accuracy: 0.9762\n",
      "Epoch 26/100\n",
      "60/60 - 1s - loss: 0.0210 - accuracy: 0.9962 - val_loss: 0.0847 - val_accuracy: 0.9752\n",
      "Epoch 27/100\n",
      "60/60 - 1s - loss: 0.0195 - accuracy: 0.9968 - val_loss: 0.0854 - val_accuracy: 0.9747\n",
      "Epoch 28/100\n",
      "60/60 - 1s - loss: 0.0181 - accuracy: 0.9972 - val_loss: 0.0820 - val_accuracy: 0.9753\n",
      "Epoch 29/100\n",
      "60/60 - 1s - loss: 0.0165 - accuracy: 0.9976 - val_loss: 0.0837 - val_accuracy: 0.9759\n",
      "Epoch 30/100\n",
      "60/60 - 1s - loss: 0.0153 - accuracy: 0.9979 - val_loss: 0.0843 - val_accuracy: 0.9758\n",
      "Epoch 31/100\n",
      "60/60 - 1s - loss: 0.0147 - accuracy: 0.9979 - val_loss: 0.0837 - val_accuracy: 0.9760\n",
      "Epoch 32/100\n",
      "60/60 - 1s - loss: 0.0132 - accuracy: 0.9985 - val_loss: 0.0839 - val_accuracy: 0.9757\n",
      "Epoch 33/100\n",
      "60/60 - 1s - loss: 0.0122 - accuracy: 0.9988 - val_loss: 0.0850 - val_accuracy: 0.9762\n",
      "Epoch 34/100\n",
      "60/60 - 1s - loss: 0.0111 - accuracy: 0.9990 - val_loss: 0.0856 - val_accuracy: 0.9760\n",
      "Epoch 35/100\n",
      "60/60 - 1s - loss: 0.0102 - accuracy: 0.9991 - val_loss: 0.0847 - val_accuracy: 0.9763\n",
      "Epoch 36/100\n",
      "60/60 - 1s - loss: 0.0096 - accuracy: 0.9991 - val_loss: 0.0842 - val_accuracy: 0.9763\n",
      "Epoch 37/100\n",
      "60/60 - 1s - loss: 0.0088 - accuracy: 0.9993 - val_loss: 0.0852 - val_accuracy: 0.9768\n",
      "Epoch 38/100\n",
      "60/60 - 1s - loss: 0.0084 - accuracy: 0.9994 - val_loss: 0.0867 - val_accuracy: 0.9759\n",
      "Epoch 39/100\n",
      "60/60 - 1s - loss: 0.0076 - accuracy: 0.9996 - val_loss: 0.0867 - val_accuracy: 0.9757\n",
      "Epoch 40/100\n",
      "60/60 - 1s - loss: 0.0071 - accuracy: 0.9995 - val_loss: 0.0866 - val_accuracy: 0.9762\n",
      "Epoch 41/100\n",
      "60/60 - 1s - loss: 0.0065 - accuracy: 0.9997 - val_loss: 0.0872 - val_accuracy: 0.9767\n",
      "Epoch 42/100\n",
      "60/60 - 1s - loss: 0.0062 - accuracy: 0.9997 - val_loss: 0.0870 - val_accuracy: 0.9763\n",
      "Epoch 43/100\n",
      "60/60 - 1s - loss: 0.0058 - accuracy: 0.9997 - val_loss: 0.0877 - val_accuracy: 0.9762\n",
      "Epoch 44/100\n",
      "60/60 - 1s - loss: 0.0053 - accuracy: 0.9998 - val_loss: 0.0880 - val_accuracy: 0.9761\n",
      "Epoch 45/100\n",
      "60/60 - 1s - loss: 0.0050 - accuracy: 0.9999 - val_loss: 0.0884 - val_accuracy: 0.9762\n",
      "Epoch 46/100\n",
      "60/60 - 1s - loss: 0.0046 - accuracy: 0.9999 - val_loss: 0.0888 - val_accuracy: 0.9763\n",
      "Epoch 47/100\n",
      "60/60 - 1s - loss: 0.0043 - accuracy: 0.9999 - val_loss: 0.0892 - val_accuracy: 0.9764\n",
      "Epoch 48/100\n",
      "60/60 - 1s - loss: 0.0042 - accuracy: 0.9999 - val_loss: 0.0902 - val_accuracy: 0.9765\n",
      "Epoch 49/100\n",
      "60/60 - 1s - loss: 0.0038 - accuracy: 0.9999 - val_loss: 0.0903 - val_accuracy: 0.9766\n",
      "Epoch 50/100\n",
      "60/60 - 1s - loss: 0.0036 - accuracy: 1.0000 - val_loss: 0.0908 - val_accuracy: 0.9763\n",
      "Epoch 51/100\n",
      "60/60 - 1s - loss: 0.0035 - accuracy: 1.0000 - val_loss: 0.0922 - val_accuracy: 0.9768\n",
      "Epoch 52/100\n",
      "60/60 - 1s - loss: 0.0033 - accuracy: 1.0000 - val_loss: 0.0922 - val_accuracy: 0.9764\n",
      "Epoch 53/100\n",
      "60/60 - 1s - loss: 0.0030 - accuracy: 1.0000 - val_loss: 0.0915 - val_accuracy: 0.9771\n",
      "Epoch 54/100\n",
      "60/60 - 1s - loss: 0.0028 - accuracy: 1.0000 - val_loss: 0.0929 - val_accuracy: 0.9764\n",
      "Epoch 55/100\n",
      "60/60 - 1s - loss: 0.0027 - accuracy: 1.0000 - val_loss: 0.0928 - val_accuracy: 0.9769\n",
      "Epoch 56/100\n",
      "60/60 - 1s - loss: 0.0025 - accuracy: 1.0000 - val_loss: 0.0931 - val_accuracy: 0.9768\n",
      "Epoch 57/100\n",
      "60/60 - 1s - loss: 0.0024 - accuracy: 1.0000 - val_loss: 0.0930 - val_accuracy: 0.9770\n",
      "Epoch 58/100\n",
      "60/60 - 1s - loss: 0.0022 - accuracy: 1.0000 - val_loss: 0.0943 - val_accuracy: 0.9767\n",
      "Epoch 59/100\n",
      "60/60 - 1s - loss: 0.0021 - accuracy: 1.0000 - val_loss: 0.0941 - val_accuracy: 0.9769\n",
      "Epoch 60/100\n",
      "60/60 - 1s - loss: 0.0020 - accuracy: 1.0000 - val_loss: 0.0948 - val_accuracy: 0.9768\n",
      "Epoch 61/100\n",
      "60/60 - 1s - loss: 0.0019 - accuracy: 1.0000 - val_loss: 0.0953 - val_accuracy: 0.9769\n",
      "Epoch 62/100\n",
      "60/60 - 1s - loss: 0.0018 - accuracy: 1.0000 - val_loss: 0.0959 - val_accuracy: 0.9772\n",
      "Epoch 63/100\n",
      "60/60 - 1s - loss: 0.0017 - accuracy: 1.0000 - val_loss: 0.0952 - val_accuracy: 0.9771\n",
      "Epoch 64/100\n",
      "60/60 - 1s - loss: 0.0016 - accuracy: 1.0000 - val_loss: 0.0964 - val_accuracy: 0.9772\n",
      "Epoch 65/100\n",
      "60/60 - 1s - loss: 0.0015 - accuracy: 1.0000 - val_loss: 0.0971 - val_accuracy: 0.9772\n",
      "Epoch 66/100\n",
      "60/60 - 1s - loss: 0.0015 - accuracy: 1.0000 - val_loss: 0.0969 - val_accuracy: 0.9773\n",
      "Epoch 67/100\n",
      "60/60 - 1s - loss: 0.0014 - accuracy: 1.0000 - val_loss: 0.0977 - val_accuracy: 0.9772\n",
      "Epoch 68/100\n",
      "60/60 - 1s - loss: 0.0013 - accuracy: 1.0000 - val_loss: 0.0981 - val_accuracy: 0.9773\n",
      "Epoch 69/100\n",
      "60/60 - 1s - loss: 0.0013 - accuracy: 1.0000 - val_loss: 0.0982 - val_accuracy: 0.9775\n",
      "Epoch 70/100\n",
      "60/60 - 1s - loss: 0.0012 - accuracy: 1.0000 - val_loss: 0.0989 - val_accuracy: 0.9770\n",
      "Epoch 71/100\n",
      "60/60 - 1s - loss: 0.0012 - accuracy: 1.0000 - val_loss: 0.0997 - val_accuracy: 0.9778\n",
      "Epoch 72/100\n",
      "60/60 - 1s - loss: 0.0011 - accuracy: 1.0000 - val_loss: 0.1005 - val_accuracy: 0.9773\n",
      "Epoch 73/100\n",
      "60/60 - 1s - loss: 0.0010 - accuracy: 1.0000 - val_loss: 0.0999 - val_accuracy: 0.9771\n",
      "Epoch 74/100\n",
      "60/60 - 1s - loss: 9.9955e-04 - accuracy: 1.0000 - val_loss: 0.1003 - val_accuracy: 0.9775\n",
      "Epoch 75/100\n",
      "60/60 - 1s - loss: 9.5070e-04 - accuracy: 1.0000 - val_loss: 0.1007 - val_accuracy: 0.9779\n",
      "Epoch 76/100\n",
      "60/60 - 1s - loss: 9.2818e-04 - accuracy: 1.0000 - val_loss: 0.1007 - val_accuracy: 0.9773\n",
      "Epoch 77/100\n",
      "60/60 - 1s - loss: 8.8536e-04 - accuracy: 1.0000 - val_loss: 0.1016 - val_accuracy: 0.9776\n",
      "Epoch 78/100\n",
      "60/60 - 2s - loss: 8.3399e-04 - accuracy: 1.0000 - val_loss: 0.1034 - val_accuracy: 0.9776\n",
      "Epoch 79/100\n",
      "60/60 - 1s - loss: 7.9539e-04 - accuracy: 1.0000 - val_loss: 0.1027 - val_accuracy: 0.9776\n",
      "Epoch 80/100\n",
      "60/60 - 1s - loss: 7.7368e-04 - accuracy: 1.0000 - val_loss: 0.1040 - val_accuracy: 0.9772\n",
      "Epoch 81/100\n",
      "60/60 - 1s - loss: 7.6205e-04 - accuracy: 1.0000 - val_loss: 0.1036 - val_accuracy: 0.9776\n",
      "Epoch 82/100\n",
      "60/60 - 1s - loss: 7.0301e-04 - accuracy: 1.0000 - val_loss: 0.1035 - val_accuracy: 0.9779\n"
     ]
    },
    {
     "name": "stdout",
     "output_type": "stream",
     "text": [
      "Epoch 83/100\n",
      "60/60 - 1s - loss: 6.7980e-04 - accuracy: 1.0000 - val_loss: 0.1041 - val_accuracy: 0.9778\n",
      "Epoch 84/100\n",
      "60/60 - 1s - loss: 6.3870e-04 - accuracy: 1.0000 - val_loss: 0.1047 - val_accuracy: 0.9773\n",
      "Epoch 85/100\n",
      "60/60 - 1s - loss: 6.2508e-04 - accuracy: 1.0000 - val_loss: 0.1056 - val_accuracy: 0.9776\n",
      "Epoch 86/100\n",
      "60/60 - 1s - loss: 5.9035e-04 - accuracy: 1.0000 - val_loss: 0.1055 - val_accuracy: 0.9776\n",
      "Epoch 87/100\n",
      "60/60 - 1s - loss: 5.6097e-04 - accuracy: 1.0000 - val_loss: 0.1055 - val_accuracy: 0.9776\n",
      "Epoch 88/100\n",
      "60/60 - 1s - loss: 5.3905e-04 - accuracy: 1.0000 - val_loss: 0.1057 - val_accuracy: 0.9774\n",
      "Epoch 89/100\n",
      "60/60 - 1s - loss: 5.1646e-04 - accuracy: 1.0000 - val_loss: 0.1067 - val_accuracy: 0.9776\n",
      "Epoch 90/100\n",
      "60/60 - 1s - loss: 4.9824e-04 - accuracy: 1.0000 - val_loss: 0.1065 - val_accuracy: 0.9778\n",
      "Epoch 91/100\n",
      "60/60 - 1s - loss: 4.7559e-04 - accuracy: 1.0000 - val_loss: 0.1071 - val_accuracy: 0.9776\n",
      "Epoch 92/100\n",
      "60/60 - 1s - loss: 4.6016e-04 - accuracy: 1.0000 - val_loss: 0.1070 - val_accuracy: 0.9775\n",
      "Epoch 93/100\n",
      "60/60 - 1s - loss: 4.4037e-04 - accuracy: 1.0000 - val_loss: 0.1077 - val_accuracy: 0.9778\n",
      "Epoch 94/100\n",
      "60/60 - 1s - loss: 4.2125e-04 - accuracy: 1.0000 - val_loss: 0.1087 - val_accuracy: 0.9776\n",
      "Epoch 95/100\n",
      "60/60 - 1s - loss: 4.0890e-04 - accuracy: 1.0000 - val_loss: 0.1082 - val_accuracy: 0.9778\n",
      "Epoch 96/100\n",
      "60/60 - 1s - loss: 3.9048e-04 - accuracy: 1.0000 - val_loss: 0.1094 - val_accuracy: 0.9778\n",
      "Epoch 97/100\n",
      "60/60 - 1s - loss: 3.7515e-04 - accuracy: 1.0000 - val_loss: 0.1094 - val_accuracy: 0.9779\n",
      "Epoch 98/100\n",
      "60/60 - 1s - loss: 3.6086e-04 - accuracy: 1.0000 - val_loss: 0.1098 - val_accuracy: 0.9778\n",
      "Epoch 99/100\n",
      "60/60 - 1s - loss: 3.4581e-04 - accuracy: 1.0000 - val_loss: 0.1104 - val_accuracy: 0.9778\n",
      "Epoch 100/100\n",
      "60/60 - 1s - loss: 3.3303e-04 - accuracy: 1.0000 - val_loss: 0.1108 - val_accuracy: 0.9781\n"
     ]
    }
   ],
   "source": [
    "train_history = model.fit(x=x_Train_norm, y=y_TrainOneHot, validation_split=0.2, epochs=100, batch_size=800, verbose=2)\n"
   ]
  },
  {
   "cell_type": "code",
   "execution_count": 30,
   "metadata": {},
   "outputs": [
    {
     "name": "stdout",
     "output_type": "stream",
     "text": [
      "313/313 [==============================] - 1s 2ms/step - loss: 0.0884 - accuracy: 0.9803\n"
     ]
    }
   ],
   "source": [
    "scores = model.evaluate(x_Test_norm, y_TestOneHot)"
   ]
  },
  {
   "cell_type": "markdown",
   "metadata": {},
   "source": [
    "## after trainging, the accuracy was increased from 0.1358 to  0.9668"
   ]
  },
  {
   "cell_type": "code",
   "execution_count": 31,
   "metadata": {},
   "outputs": [
    {
     "name": "stdout",
     "output_type": "stream",
     "text": [
      "\t[Info] Accuracy of testing data = 98.0%\n"
     ]
    }
   ],
   "source": [
    "print(\"\\t[Info] Accuracy of testing data = {:2.1f}%\".format(scores[1]*100.0))\n"
   ]
  },
  {
   "cell_type": "markdown",
   "metadata": {},
   "source": [
    "### assess again"
   ]
  },
  {
   "cell_type": "code",
   "execution_count": 32,
   "metadata": {},
   "outputs": [],
   "source": [
    "img=cv2.imread('6.png', cv2.IMREAD_GRAYSCALE)"
   ]
  },
  {
   "cell_type": "code",
   "execution_count": 33,
   "metadata": {},
   "outputs": [
    {
     "ename": "error",
     "evalue": "OpenCV(4.5.1) C:\\Users\\appveyor\\AppData\\Local\\Temp\\1\\pip-req-build-kh7iq4w7\\opencv\\modules\\imgproc\\src\\resize.cpp:4051: error: (-215:Assertion failed) !ssize.empty() in function 'cv::resize'\n",
     "output_type": "error",
     "traceback": [
      "\u001b[1;31m---------------------------------------------------------------------------\u001b[0m",
      "\u001b[1;31merror\u001b[0m                                     Traceback (most recent call last)",
      "\u001b[1;32m<ipython-input-33-43b7f8e2c702>\u001b[0m in \u001b[0;36m<module>\u001b[1;34m\u001b[0m\n\u001b[0;32m      1\u001b[0m \u001b[0mcrop_size\u001b[0m \u001b[1;33m=\u001b[0m \u001b[1;33m(\u001b[0m\u001b[1;36m28\u001b[0m\u001b[1;33m,\u001b[0m \u001b[1;36m28\u001b[0m\u001b[1;33m)\u001b[0m\u001b[1;33m\u001b[0m\u001b[1;33m\u001b[0m\u001b[0m\n\u001b[1;32m----> 2\u001b[1;33m \u001b[0mimg\u001b[0m \u001b[1;33m=\u001b[0m \u001b[0mcv2\u001b[0m\u001b[1;33m.\u001b[0m\u001b[0mresize\u001b[0m\u001b[1;33m(\u001b[0m\u001b[0mimg\u001b[0m\u001b[1;33m,\u001b[0m \u001b[0mcrop_size\u001b[0m\u001b[1;33m,\u001b[0m \u001b[0minterpolation\u001b[0m \u001b[1;33m=\u001b[0m \u001b[0mcv2\u001b[0m\u001b[1;33m.\u001b[0m\u001b[0mINTER_CUBIC\u001b[0m\u001b[1;33m)\u001b[0m\u001b[1;33m\u001b[0m\u001b[1;33m\u001b[0m\u001b[0m\n\u001b[0m",
      "\u001b[1;31merror\u001b[0m: OpenCV(4.5.1) C:\\Users\\appveyor\\AppData\\Local\\Temp\\1\\pip-req-build-kh7iq4w7\\opencv\\modules\\imgproc\\src\\resize.cpp:4051: error: (-215:Assertion failed) !ssize.empty() in function 'cv::resize'\n"
     ]
    }
   ],
   "source": [
    "crop_size = (28, 28)\n",
    "img = cv2.resize(img, crop_size, interpolation = cv2.INTER_CUBIC)"
   ]
  },
  {
   "cell_type": "code",
   "execution_count": null,
   "metadata": {},
   "outputs": [],
   "source": [
    "img_2D = img.reshape(1,28*28).astype('float32')\n",
    "img_norm=img_2D/255\n",
    "img = img_norm\n",
    "predictions = model.predict_classes(img)"
   ]
  },
  {
   "cell_type": "code",
   "execution_count": null,
   "metadata": {},
   "outputs": [],
   "source": [
    "print(predictions)"
   ]
  },
  {
   "cell_type": "code",
   "execution_count": null,
   "metadata": {},
   "outputs": [],
   "source": [
    "train_history = model.fit(x=x_Train_norm, y=y_TrainOneHot, validation_split=0.2, epochs=20, batch_size=800, verbose=2)"
   ]
  },
  {
   "cell_type": "code",
   "execution_count": null,
   "metadata": {},
   "outputs": [],
   "source": [
    "train_history = model.fit(x=x_Train_norm, y=y_TrainOneHot, validation_split=0.2, epochs=50, batch_size=800, verbose=2)"
   ]
  },
  {
   "cell_type": "code",
   "execution_count": null,
   "metadata": {},
   "outputs": [],
   "source": [
    "img=cv2.imread('7.png', cv2.IMREAD_GRAYSCALE)"
   ]
  },
  {
   "cell_type": "code",
   "execution_count": null,
   "metadata": {},
   "outputs": [],
   "source": [
    "crop_size = (28, 28)\n",
    "img = cv2.resize(img, crop_size, interpolation = cv2.INTER_CUBIC)"
   ]
  },
  {
   "cell_type": "code",
   "execution_count": null,
   "metadata": {},
   "outputs": [],
   "source": [
    "img_2D = img.reshape(1,28*28).astype('float32')\n",
    "img_norm=img_2D/255\n",
    "img = img_norm\n",
    "predictions = model.predict_classes(img)"
   ]
  },
  {
   "cell_type": "code",
   "execution_count": null,
   "metadata": {},
   "outputs": [],
   "source": [
    "print(predictions)"
   ]
  },
  {
   "cell_type": "code",
   "execution_count": null,
   "metadata": {},
   "outputs": [],
   "source": [
    "train_history = model.fit(x=x_Train_norm, y=y_TrainOneHot, validation_split=0.2, epochs=500, batch_size=800, verbose=2)"
   ]
  },
  {
   "cell_type": "code",
   "execution_count": null,
   "metadata": {},
   "outputs": [],
   "source": [
    "X = x_Test_norm[0:10,:]"
   ]
  },
  {
   "cell_type": "code",
   "execution_count": null,
   "metadata": {},
   "outputs": [],
   "source": [
    "print(X)"
   ]
  },
  {
   "cell_type": "code",
   "execution_count": null,
   "metadata": {},
   "outputs": [],
   "source": [
    "predictions = model.predict_classes(X)"
   ]
  },
  {
   "cell_type": "code",
   "execution_count": null,
   "metadata": {},
   "outputs": [],
   "source": [
    "print(predictions)"
   ]
  },
  {
   "cell_type": "code",
   "execution_count": null,
   "metadata": {},
   "outputs": [],
   "source": [
    "img=cv2.imread('5.png', cv2.IMREAD_GRAYSCALE)"
   ]
  },
  {
   "cell_type": "code",
   "execution_count": null,
   "metadata": {},
   "outputs": [],
   "source": [
    "crop_size = (28, 28)\n",
    "img = cv2.resize(img, crop_size, interpolation = cv2.INTER_CUBIC)"
   ]
  },
  {
   "cell_type": "code",
   "execution_count": null,
   "metadata": {},
   "outputs": [],
   "source": [
    "img_2D = img.reshape(1,28*28).astype('float32')\n",
    "img_norm=img_2D/255\n",
    "img = img_norm\n",
    "predictions = model.predict_classes(img)"
   ]
  },
  {
   "cell_type": "code",
   "execution_count": null,
   "metadata": {},
   "outputs": [],
   "source": [
    "print(predictions)"
   ]
  },
  {
   "cell_type": "code",
   "execution_count": null,
   "metadata": {},
   "outputs": [],
   "source": [
    "cv2.imshow(\"image\", img)"
   ]
  },
  {
   "cell_type": "code",
   "execution_count": null,
   "metadata": {},
   "outputs": [],
   "source": [
    "cv2.waitKey(0)"
   ]
  },
  {
   "cell_type": "code",
   "execution_count": null,
   "metadata": {},
   "outputs": [],
   "source": []
  },
  {
   "cell_type": "code",
   "execution_count": null,
   "metadata": {},
   "outputs": [],
   "source": []
  }
 ],
 "metadata": {
  "kernelspec": {
   "display_name": "Python 3 (ipykernel)",
   "language": "python",
   "name": "python3"
  },
  "language_info": {
   "codemirror_mode": {
    "name": "ipython",
    "version": 3
   },
   "file_extension": ".py",
   "mimetype": "text/x-python",
   "name": "python",
   "nbconvert_exporter": "python",
   "pygments_lexer": "ipython3",
   "version": "3.8.10"
  }
 },
 "nbformat": 4,
 "nbformat_minor": 4
}

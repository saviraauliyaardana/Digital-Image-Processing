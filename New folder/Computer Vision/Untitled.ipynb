{
 "cells": [
  {
   "cell_type": "code",
   "execution_count": 25,
   "id": "8e94f71b",
   "metadata": {},
   "outputs": [],
   "source": [
    "from PIL import Image"
   ]
  },
  {
   "cell_type": "code",
   "execution_count": 26,
   "id": "ccb62e21",
   "metadata": {},
   "outputs": [],
   "source": [
    "img = Image.open(\"nature.jpg\")\n"
   ]
  },
  {
   "cell_type": "code",
   "execution_count": 27,
   "id": "fb449499",
   "metadata": {},
   "outputs": [],
   "source": [
    "greyscale = img.convert(\"L\")"
   ]
  },
  {
   "cell_type": "raw",
   "id": "19483016",
   "metadata": {},
   "source": []
  },
  {
   "cell_type": "code",
   "execution_count": null,
   "id": "6c58a499",
   "metadata": {},
   "outputs": [],
   "source": [
    "greyscale.show()"
   ]
  },
  {
   "cell_type": "code",
   "execution_count": null,
   "id": "26e406de",
   "metadata": {},
   "outputs": [],
   "source": []
  }
 ],
 "metadata": {
  "kernelspec": {
   "display_name": "Python 3 (ipykernel)",
   "language": "python",
   "name": "python3"
  },
  "language_info": {
   "codemirror_mode": {
    "name": "ipython",
    "version": 3
   },
   "file_extension": ".py",
   "mimetype": "text/x-python",
   "name": "python",
   "nbconvert_exporter": "python",
   "pygments_lexer": "ipython3",
   "version": "3.8.10"
  }
 },
 "nbformat": 4,
 "nbformat_minor": 5
}

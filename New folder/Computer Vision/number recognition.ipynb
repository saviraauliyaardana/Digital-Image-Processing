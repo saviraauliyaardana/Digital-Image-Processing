{
 "cells": [
  {
   "cell_type": "markdown",
   "metadata": {},
   "source": [
    "# Input the necessary packages"
   ]
  },
  {
   "cell_type": "code",
   "execution_count": 24,
   "metadata": {},
   "outputs": [],
   "source": [
    "import numpy as np"
   ]
  },
  {
   "cell_type": "markdown",
   "metadata": {},
   "source": [
    "## check the keras status"
   ]
  },
  {
   "cell_type": "code",
   "execution_count": 25,
   "metadata": {},
   "outputs": [],
   "source": [
    "import keras"
   ]
  },
  {
   "cell_type": "code",
   "execution_count": 26,
   "metadata": {},
   "outputs": [
    {
     "data": {
      "text/plain": [
       "'2.6.0'"
      ]
     },
     "execution_count": 26,
     "metadata": {},
     "output_type": "execute_result"
    }
   ],
   "source": [
    "keras.__version__"
   ]
  },
  {
   "cell_type": "code",
   "execution_count": null,
   "metadata": {},
   "outputs": [],
   "source": []
  },
  {
   "cell_type": "code",
   "execution_count": 27,
   "metadata": {},
   "outputs": [],
   "source": [
    "from keras.models import Sequential"
   ]
  },
  {
   "cell_type": "code",
   "execution_count": 28,
   "metadata": {},
   "outputs": [],
   "source": [
    "from keras.datasets import mnist # load in the data (important)\n",
    "from keras.layers import Dense, Dropout, Activation, Flatten"
   ]
  },
  {
   "cell_type": "code",
   "execution_count": 29,
   "metadata": {},
   "outputs": [],
   "source": [
    "from keras.utils import np_utils # let label transit to 0ne-hot-encoding"
   ]
  },
  {
   "cell_type": "code",
   "execution_count": 30,
   "metadata": {},
   "outputs": [],
   "source": [
    "from matplotlib import pyplot as plt\n",
    "import cv2"
   ]
  },
  {
   "cell_type": "code",
   "execution_count": 31,
   "metadata": {},
   "outputs": [
    {
     "data": {
      "text/plain": [
       "((60000, 28, 28), (60000,), (10000, 28, 28), (10000,))"
      ]
     },
     "execution_count": 31,
     "metadata": {},
     "output_type": "execute_result"
    }
   ],
   "source": [
    "(X_train, y_train), (X_test, y_test) = mnist.load_data() # grouping the minst's data to train and test group\n",
    "\n",
    "X_train.shape,y_train.shape,X_test.shape,y_test.shape"
   ]
  },
  {
   "cell_type": "code",
   "execution_count": 32,
   "metadata": {},
   "outputs": [
    {
     "name": "stdout",
     "output_type": "stream",
     "text": [
      "(60000, 28, 28)\n"
     ]
    }
   ],
   "source": [
    "print(X_train.shape)  #there are 60000 test images, and the image is in 28 x 28 format"
   ]
  },
  {
   "cell_type": "code",
   "execution_count": 33,
   "metadata": {},
   "outputs": [
    {
     "name": "stdout",
     "output_type": "stream",
     "text": [
      "(60000,)\n"
     ]
    }
   ],
   "source": [
    "print(y_train.shape) # the corresponging number with respect to 60000 images is 60000 as predicted"
   ]
  },
  {
   "cell_type": "code",
   "execution_count": 34,
   "metadata": {},
   "outputs": [],
   "source": [
    "model = Sequential() # create linear implementing model"
   ]
  },
  {
   "cell_type": "code",
   "execution_count": 35,
   "metadata": {},
   "outputs": [],
   "source": [
    "model.add(Dense(units=256, input_dim=784, kernel_initializer='normal', activation='relu')) # add input layer and hidden layer"
   ]
  },
  {
   "cell_type": "code",
   "execution_count": 36,
   "metadata": {},
   "outputs": [],
   "source": [
    "model.add(Dense(units=10, kernel_initializer='normal', activation='softmax')) # add output layer\n"
   ]
  },
  {
   "cell_type": "code",
   "execution_count": 37,
   "metadata": {},
   "outputs": [],
   "source": [
    "model.compile(loss='categorical_crossentropy', optimizer='adam', metrics=['accuracy']) # Compilation: Choose loss function, optimization method and effectiveness measurement method"
   ]
  },
  {
   "cell_type": "code",
   "execution_count": 38,
   "metadata": {},
   "outputs": [],
   "source": [
    "y_TrainOneHot = np_utils.to_categorical(y_train)"
   ]
  },
  {
   "cell_type": "code",
   "execution_count": 39,
   "metadata": {},
   "outputs": [],
   "source": [
    "y_TestOneHot = np_utils.to_categorical(y_test)"
   ]
  },
  {
   "cell_type": "code",
   "execution_count": 40,
   "metadata": {},
   "outputs": [
    {
     "data": {
      "text/plain": [
       "((60000, 784), (10000, 784))"
      ]
     },
     "execution_count": 40,
     "metadata": {},
     "output_type": "execute_result"
    }
   ],
   "source": [
    "X_train_2D = X_train.reshape(60000, 28*28).astype('float32')\n",
    "X_test_2D = X_test.reshape(10000, 28*28).astype('float32') # 2D-1D(important)\n",
    "X_train_2D.shape,X_test_2D.shape"
   ]
  },
  {
   "cell_type": "markdown",
   "metadata": {},
   "source": [
    "# check the train images"
   ]
  },
  {
   "cell_type": "code",
   "execution_count": 41,
   "metadata": {},
   "outputs": [
    {
     "name": "stdout",
     "output_type": "stream",
     "text": [
      "(60000, 28, 28)\n"
     ]
    }
   ],
   "source": [
    "print(X_train.shape) #there are 10000 test images, and the image is in 28 x 28 format"
   ]
  },
  {
   "cell_type": "code",
   "execution_count": 42,
   "metadata": {},
   "outputs": [
    {
     "name": "stdout",
     "output_type": "stream",
     "text": [
      "(60000,)\n"
     ]
    }
   ],
   "source": [
    "print(y_train.shape)"
   ]
  },
  {
   "cell_type": "code",
   "execution_count": 43,
   "metadata": {},
   "outputs": [
    {
     "name": "stdout",
     "output_type": "stream",
     "text": [
      "X_test_2D:  (10000, 784)\n"
     ]
    }
   ],
   "source": [
    "print(\"X_test_2D: \",X_test_2D.shape)\n"
   ]
  },
  {
   "cell_type": "code",
   "execution_count": 44,
   "metadata": {},
   "outputs": [
    {
     "name": "stdout",
     "output_type": "stream",
     "text": [
      "X_train_2d (60000, 784)\n"
     ]
    }
   ],
   "source": [
    "print('X_train_2d',X_train_2D.shape)"
   ]
  },
  {
   "cell_type": "code",
   "execution_count": 45,
   "metadata": {},
   "outputs": [],
   "source": [
    "x_Train_norm = X_train_2D/255\n",
    "x_Test_norm = X_test_2D/255 # important process"
   ]
  },
  {
   "cell_type": "code",
   "execution_count": 46,
   "metadata": {},
   "outputs": [
    {
     "name": "stdout",
     "output_type": "stream",
     "text": [
      "313/313 [==============================] - 1s 2ms/step - loss: 2.3842 - accuracy: 0.0857\n"
     ]
    }
   ],
   "source": [
    "scores = model.evaluate(x_Test_norm, y_TestOneHot) #before traing the model"
   ]
  },
  {
   "cell_type": "code",
   "execution_count": 47,
   "metadata": {},
   "outputs": [
    {
     "name": "stdout",
     "output_type": "stream",
     "text": [
      "\t[Info] Accuracy of testing data = 8.6%\n"
     ]
    }
   ],
   "source": [
    "print(\"\\t[Info] Accuracy of testing data = {:2.1f}%\".format(scores[1]*100.0))"
   ]
  },
  {
   "cell_type": "code",
   "execution_count": 48,
   "metadata": {},
   "outputs": [],
   "source": [
    "X = x_Test_norm[11:20,:]\n",
    "predictions = model.predict(X)\n",
    "classes =np.argmax(predictions,axis=1)"
   ]
  },
  {
   "cell_type": "code",
   "execution_count": 49,
   "metadata": {},
   "outputs": [
    {
     "name": "stdout",
     "output_type": "stream",
     "text": [
      "[[0.11330923 0.13611278 0.11591563 0.0709543  0.09539624 0.17563704\n",
      "  0.05094003 0.08464314 0.10873552 0.04835609]\n",
      " [0.12877975 0.08868659 0.10564003 0.12029012 0.06269046 0.12936723\n",
      "  0.06224227 0.14217173 0.10749072 0.0526411 ]\n",
      " [0.10043588 0.10642592 0.12073739 0.09308893 0.05646504 0.16992581\n",
      "  0.07912876 0.08253215 0.12657863 0.06468143]\n",
      " [0.14353113 0.092429   0.09279839 0.08573375 0.09566641 0.15604539\n",
      "  0.0828768  0.09324902 0.0919171  0.06575301]\n",
      " [0.13887121 0.09238654 0.11409723 0.09047209 0.07482474 0.14687823\n",
      "  0.08766046 0.07610529 0.10353093 0.07517339]\n",
      " [0.08344811 0.12461608 0.07859153 0.08837836 0.0958231  0.17638054\n",
      "  0.08544236 0.12008426 0.09635431 0.0508813 ]\n",
      " [0.10124994 0.14091054 0.09871953 0.11203858 0.07348507 0.11049043\n",
      "  0.08921283 0.11094857 0.11021611 0.05272838]\n",
      " [0.1333003  0.08977256 0.0784498  0.12395037 0.06732949 0.17631392\n",
      "  0.07396588 0.07050441 0.11241934 0.07399391]\n",
      " [0.12209978 0.0977326  0.09668707 0.08392653 0.06681082 0.14515759\n",
      "  0.08792889 0.1289354  0.10830884 0.06241241]]\n"
     ]
    }
   ],
   "source": [
    "print(predictions)"
   ]
  },
  {
   "cell_type": "code",
   "execution_count": null,
   "metadata": {},
   "outputs": [],
   "source": []
  },
  {
   "cell_type": "code",
   "execution_count": null,
   "metadata": {},
   "outputs": [],
   "source": []
  },
  {
   "cell_type": "code",
   "execution_count": 50,
   "metadata": {},
   "outputs": [],
   "source": [
    "img = cv2.resize(cv2.imread('5.png', 2),(28,28));"
   ]
  },
  {
   "cell_type": "code",
   "execution_count": 51,
   "metadata": {},
   "outputs": [
    {
     "data": {
      "text/plain": [
       "<matplotlib.image.AxesImage at 0x1c77a8e4be0>"
      ]
     },
     "execution_count": 51,
     "metadata": {},
     "output_type": "execute_result"
    },
    {
     "data": {
      "image/png": "[encoded data removed]",
      "text/plain": [
       "<Figure size 432x288 with 1 Axes>"
      ]
     },
     "metadata": {
      "needs_background": "light"
     },
     "output_type": "display_data"
    }
   ],
   "source": [
    "# cv2.imshow('My Image', img)\n",
    "plt.imshow(cv2.cvtColor(img, cv2.COLOR_BGR2RGB))"
   ]
  },
  {
   "cell_type": "code",
   "execution_count": 52,
   "metadata": {},
   "outputs": [],
   "source": [
    "# img"
   ]
  },
  {
   "cell_type": "code",
   "execution_count": 53,
   "metadata": {},
   "outputs": [],
   "source": [
    "# cv2.waitKey(0)"
   ]
  },
  {
   "cell_type": "code",
   "execution_count": 54,
   "metadata": {},
   "outputs": [],
   "source": [
    "# cv2.destroyAllWindows()"
   ]
  },
  {
   "cell_type": "code",
   "execution_count": null,
   "metadata": {},
   "outputs": [],
   "source": []
  },
  {
   "cell_type": "code",
   "execution_count": 55,
   "metadata": {},
   "outputs": [],
   "source": [
    "img_2D = img.reshape(1,28*28).astype('float32')\n",
    "img_norm=img_2D/255\n",
    "img = img_norm\n",
    "predictions = model.predict(img)"
   ]
  },
  {
   "cell_type": "code",
   "execution_count": 56,
   "metadata": {},
   "outputs": [],
   "source": [
    "img_2D = img.reshape(1,28*28).astype('float32')\n",
    "img_norm=img_2D/255\n",
    "img = img_norm\n",
    "predictions = model.predict(img)"
   ]
  },
  {
   "cell_type": "code",
   "execution_count": 57,
   "metadata": {},
   "outputs": [
    {
     "name": "stdout",
     "output_type": "stream",
     "text": [
      "[[0.10036287 0.09990556 0.09965712 0.1002576  0.09963614 0.10076279\n",
      "  0.09980816 0.10025468 0.10001904 0.09933602]]\n"
     ]
    }
   ],
   "source": [
    "print(predictions)"
   ]
  },
  {
   "cell_type": "markdown",
   "metadata": {},
   "source": [
    "# now we are going to train the data to get model"
   ]
  },
  {
   "cell_type": "code",
   "execution_count": 58,
   "metadata": {
    "scrolled": true
   },
   "outputs": [
    {
     "name": "stdout",
     "output_type": "stream",
     "text": [
      "Epoch 1/100\n",
      "75/75 - 1s - loss: 0.7075 - accuracy: 0.8225 - val_loss: 0.1479 - val_accuracy: 0.9833\n",
      "Epoch 2/100\n",
      "75/75 - 0s - loss: 0.2712 - accuracy: 0.9240 - val_loss: 0.1036 - val_accuracy: 0.9833\n",
      "Epoch 3/100\n",
      "75/75 - 0s - loss: 0.2121 - accuracy: 0.9407 - val_loss: 0.0687 - val_accuracy: 1.0000\n",
      "Epoch 4/100\n",
      "75/75 - 0s - loss: 0.1726 - accuracy: 0.9517 - val_loss: 0.0601 - val_accuracy: 1.0000\n",
      "Epoch 5/100\n",
      "75/75 - 0s - loss: 0.1456 - accuracy: 0.9594 - val_loss: 0.0518 - val_accuracy: 1.0000\n",
      "Epoch 6/100\n",
      "75/75 - 0s - loss: 0.1251 - accuracy: 0.9646 - val_loss: 0.0552 - val_accuracy: 0.9833\n",
      "Epoch 7/100\n",
      "75/75 - 0s - loss: 0.1078 - accuracy: 0.9698 - val_loss: 0.0385 - val_accuracy: 1.0000\n",
      "Epoch 8/100\n",
      "75/75 - 0s - loss: 0.0947 - accuracy: 0.9738 - val_loss: 0.0323 - val_accuracy: 1.0000\n",
      "Epoch 9/100\n",
      "75/75 - 0s - loss: 0.0834 - accuracy: 0.9769 - val_loss: 0.0443 - val_accuracy: 0.9833\n",
      "Epoch 10/100\n",
      "75/75 - 0s - loss: 0.0744 - accuracy: 0.9793 - val_loss: 0.0359 - val_accuracy: 0.9833\n",
      "Epoch 11/100\n",
      "75/75 - 0s - loss: 0.0663 - accuracy: 0.9822 - val_loss: 0.0263 - val_accuracy: 1.0000\n",
      "Epoch 12/100\n",
      "75/75 - 1s - loss: 0.0595 - accuracy: 0.9841 - val_loss: 0.0504 - val_accuracy: 0.9833\n",
      "Epoch 13/100\n",
      "75/75 - 0s - loss: 0.0538 - accuracy: 0.9859 - val_loss: 0.0333 - val_accuracy: 0.9833\n",
      "Epoch 14/100\n",
      "75/75 - 0s - loss: 0.0486 - accuracy: 0.9871 - val_loss: 0.0288 - val_accuracy: 1.0000\n",
      "Epoch 15/100\n",
      "75/75 - 0s - loss: 0.0443 - accuracy: 0.9886 - val_loss: 0.0553 - val_accuracy: 0.9833\n",
      "Epoch 16/100\n",
      "75/75 - 0s - loss: 0.0404 - accuracy: 0.9900 - val_loss: 0.0404 - val_accuracy: 0.9833\n",
      "Epoch 17/100\n",
      "75/75 - 0s - loss: 0.0367 - accuracy: 0.9911 - val_loss: 0.0209 - val_accuracy: 1.0000\n",
      "Epoch 18/100\n",
      "75/75 - 0s - loss: 0.0328 - accuracy: 0.9922 - val_loss: 0.0288 - val_accuracy: 1.0000\n",
      "Epoch 19/100\n",
      "75/75 - 0s - loss: 0.0305 - accuracy: 0.9930 - val_loss: 0.0340 - val_accuracy: 1.0000\n",
      "Epoch 20/100\n",
      "75/75 - 0s - loss: 0.0275 - accuracy: 0.9938 - val_loss: 0.0308 - val_accuracy: 1.0000\n",
      "Epoch 21/100\n",
      "75/75 - 1s - loss: 0.0252 - accuracy: 0.9945 - val_loss: 0.0425 - val_accuracy: 0.9833\n",
      "Epoch 22/100\n",
      "75/75 - 0s - loss: 0.0232 - accuracy: 0.9951 - val_loss: 0.0291 - val_accuracy: 1.0000\n",
      "Epoch 23/100\n",
      "75/75 - 0s - loss: 0.0212 - accuracy: 0.9959 - val_loss: 0.0173 - val_accuracy: 1.0000\n",
      "Epoch 24/100\n",
      "75/75 - 0s - loss: 0.0191 - accuracy: 0.9965 - val_loss: 0.0316 - val_accuracy: 0.9833\n",
      "Epoch 25/100\n",
      "75/75 - 0s - loss: 0.0178 - accuracy: 0.9971 - val_loss: 0.0338 - val_accuracy: 0.9833\n",
      "Epoch 26/100\n",
      "75/75 - 0s - loss: 0.0160 - accuracy: 0.9974 - val_loss: 0.0258 - val_accuracy: 1.0000\n",
      "Epoch 27/100\n",
      "75/75 - 0s - loss: 0.0145 - accuracy: 0.9979 - val_loss: 0.0273 - val_accuracy: 1.0000\n",
      "Epoch 28/100\n",
      "75/75 - 0s - loss: 0.0132 - accuracy: 0.9983 - val_loss: 0.0231 - val_accuracy: 1.0000\n",
      "Epoch 29/100\n",
      "75/75 - 0s - loss: 0.0126 - accuracy: 0.9983 - val_loss: 0.0158 - val_accuracy: 1.0000\n",
      "Epoch 30/100\n",
      "75/75 - 0s - loss: 0.0111 - accuracy: 0.9987 - val_loss: 0.0207 - val_accuracy: 1.0000\n",
      "Epoch 31/100\n",
      "75/75 - 0s - loss: 0.0102 - accuracy: 0.9990 - val_loss: 0.0413 - val_accuracy: 0.9667\n",
      "Epoch 32/100\n",
      "75/75 - 0s - loss: 0.0098 - accuracy: 0.9990 - val_loss: 0.0176 - val_accuracy: 1.0000\n",
      "Epoch 33/100\n",
      "75/75 - 0s - loss: 0.0089 - accuracy: 0.9992 - val_loss: 0.0198 - val_accuracy: 1.0000\n",
      "Epoch 34/100\n",
      "75/75 - 0s - loss: 0.0081 - accuracy: 0.9993 - val_loss: 0.0156 - val_accuracy: 1.0000\n",
      "Epoch 35/100\n",
      "75/75 - 0s - loss: 0.0074 - accuracy: 0.9995 - val_loss: 0.0281 - val_accuracy: 1.0000\n",
      "Epoch 36/100\n",
      "75/75 - 0s - loss: 0.0068 - accuracy: 0.9996 - val_loss: 0.0316 - val_accuracy: 0.9833\n",
      "Epoch 37/100\n",
      "75/75 - 0s - loss: 0.0065 - accuracy: 0.9995 - val_loss: 0.0175 - val_accuracy: 1.0000\n",
      "Epoch 38/100\n",
      "75/75 - 0s - loss: 0.0058 - accuracy: 0.9996 - val_loss: 0.0332 - val_accuracy: 0.9667\n",
      "Epoch 39/100\n",
      "75/75 - 0s - loss: 0.0053 - accuracy: 0.9997 - val_loss: 0.0168 - val_accuracy: 1.0000\n",
      "Epoch 40/100\n",
      "75/75 - 0s - loss: 0.0049 - accuracy: 0.9998 - val_loss: 0.0272 - val_accuracy: 0.9833\n",
      "Epoch 41/100\n",
      "75/75 - 0s - loss: 0.0045 - accuracy: 0.9999 - val_loss: 0.0226 - val_accuracy: 1.0000\n",
      "Epoch 42/100\n",
      "75/75 - 0s - loss: 0.0042 - accuracy: 0.9998 - val_loss: 0.0209 - val_accuracy: 1.0000\n",
      "Epoch 43/100\n",
      "75/75 - 0s - loss: 0.0038 - accuracy: 0.9999 - val_loss: 0.0271 - val_accuracy: 0.9833\n",
      "Epoch 44/100\n",
      "75/75 - 0s - loss: 0.0035 - accuracy: 0.9999 - val_loss: 0.0168 - val_accuracy: 1.0000\n",
      "Epoch 45/100\n",
      "75/75 - 0s - loss: 0.0032 - accuracy: 0.9999 - val_loss: 0.0287 - val_accuracy: 0.9833\n",
      "Epoch 46/100\n",
      "75/75 - 0s - loss: 0.0031 - accuracy: 0.9999 - val_loss: 0.0167 - val_accuracy: 1.0000\n",
      "Epoch 47/100\n",
      "75/75 - 0s - loss: 0.0028 - accuracy: 1.0000 - val_loss: 0.0223 - val_accuracy: 0.9833\n",
      "Epoch 48/100\n",
      "75/75 - 0s - loss: 0.0027 - accuracy: 0.9999 - val_loss: 0.0238 - val_accuracy: 0.9833\n",
      "Epoch 49/100\n",
      "75/75 - 0s - loss: 0.0025 - accuracy: 1.0000 - val_loss: 0.0226 - val_accuracy: 0.9833\n",
      "Epoch 50/100\n",
      "75/75 - 0s - loss: 0.0023 - accuracy: 0.9999 - val_loss: 0.0249 - val_accuracy: 0.9833\n",
      "Epoch 51/100\n",
      "75/75 - 0s - loss: 0.0021 - accuracy: 1.0000 - val_loss: 0.0227 - val_accuracy: 0.9833\n",
      "Epoch 52/100\n",
      "75/75 - 0s - loss: 0.0020 - accuracy: 0.9999 - val_loss: 0.0296 - val_accuracy: 0.9833\n",
      "Epoch 53/100\n",
      "75/75 - 0s - loss: 0.0019 - accuracy: 1.0000 - val_loss: 0.0273 - val_accuracy: 0.9833\n",
      "Epoch 54/100\n",
      "75/75 - 0s - loss: 0.0018 - accuracy: 1.0000 - val_loss: 0.0262 - val_accuracy: 0.9833\n",
      "Epoch 55/100\n",
      "75/75 - 0s - loss: 0.0016 - accuracy: 1.0000 - val_loss: 0.0213 - val_accuracy: 0.9833\n",
      "Epoch 56/100\n",
      "75/75 - 0s - loss: 0.0016 - accuracy: 1.0000 - val_loss: 0.0350 - val_accuracy: 0.9833\n",
      "Epoch 57/100\n",
      "75/75 - 0s - loss: 0.0015 - accuracy: 1.0000 - val_loss: 0.0247 - val_accuracy: 0.9833\n",
      "Epoch 58/100\n",
      "75/75 - 0s - loss: 0.0014 - accuracy: 1.0000 - val_loss: 0.0229 - val_accuracy: 0.9833\n",
      "Epoch 59/100\n",
      "75/75 - 0s - loss: 0.0013 - accuracy: 1.0000 - val_loss: 0.0281 - val_accuracy: 0.9833\n",
      "Epoch 60/100\n",
      "75/75 - 0s - loss: 0.0012 - accuracy: 1.0000 - val_loss: 0.0269 - val_accuracy: 0.9833\n",
      "Epoch 61/100\n",
      "75/75 - 0s - loss: 0.0012 - accuracy: 1.0000 - val_loss: 0.0194 - val_accuracy: 0.9833\n",
      "Epoch 62/100\n",
      "75/75 - 0s - loss: 0.0011 - accuracy: 1.0000 - val_loss: 0.0283 - val_accuracy: 0.9833\n",
      "Epoch 63/100\n",
      "75/75 - 0s - loss: 0.0010 - accuracy: 1.0000 - val_loss: 0.0230 - val_accuracy: 0.9833\n",
      "Epoch 64/100\n",
      "75/75 - 0s - loss: 9.7004e-04 - accuracy: 1.0000 - val_loss: 0.0264 - val_accuracy: 0.9833\n",
      "Epoch 65/100\n",
      "75/75 - 0s - loss: 9.2055e-04 - accuracy: 1.0000 - val_loss: 0.0234 - val_accuracy: 0.9833\n",
      "Epoch 66/100\n",
      "75/75 - 0s - loss: 8.6819e-04 - accuracy: 1.0000 - val_loss: 0.0203 - val_accuracy: 0.9833\n",
      "Epoch 67/100\n",
      "75/75 - 0s - loss: 8.4139e-04 - accuracy: 1.0000 - val_loss: 0.0206 - val_accuracy: 0.9833\n",
      "Epoch 68/100\n",
      "75/75 - 0s - loss: 7.8239e-04 - accuracy: 1.0000 - val_loss: 0.0229 - val_accuracy: 0.9833\n",
      "Epoch 69/100\n",
      "75/75 - 0s - loss: 7.3784e-04 - accuracy: 1.0000 - val_loss: 0.0242 - val_accuracy: 0.9833\n",
      "Epoch 70/100\n",
      "75/75 - 0s - loss: 7.0086e-04 - accuracy: 1.0000 - val_loss: 0.0207 - val_accuracy: 0.9833\n",
      "Epoch 71/100\n",
      "75/75 - 0s - loss: 6.6557e-04 - accuracy: 1.0000 - val_loss: 0.0246 - val_accuracy: 0.9833\n",
      "Epoch 72/100\n",
      "75/75 - 0s - loss: 6.3136e-04 - accuracy: 1.0000 - val_loss: 0.0221 - val_accuracy: 0.9833\n",
      "Epoch 73/100\n",
      "75/75 - 0s - loss: 6.0179e-04 - accuracy: 1.0000 - val_loss: 0.0249 - val_accuracy: 0.9833\n",
      "Epoch 74/100\n",
      "75/75 - 0s - loss: 5.7063e-04 - accuracy: 1.0000 - val_loss: 0.0223 - val_accuracy: 0.9833\n",
      "Epoch 75/100\n",
      "75/75 - 0s - loss: 5.5978e-04 - accuracy: 1.0000 - val_loss: 0.0233 - val_accuracy: 0.9833\n",
      "Epoch 76/100\n",
      "75/75 - 0s - loss: 5.2101e-04 - accuracy: 1.0000 - val_loss: 0.0258 - val_accuracy: 0.9833\n",
      "Epoch 77/100\n",
      "75/75 - 0s - loss: 4.8744e-04 - accuracy: 1.0000 - val_loss: 0.0240 - val_accuracy: 0.9833\n",
      "Epoch 78/100\n",
      "75/75 - 0s - loss: 4.6703e-04 - accuracy: 1.0000 - val_loss: 0.0318 - val_accuracy: 0.9833\n",
      "Epoch 79/100\n",
      "75/75 - 0s - loss: 4.4318e-04 - accuracy: 1.0000 - val_loss: 0.0223 - val_accuracy: 0.9833\n",
      "Epoch 80/100\n",
      "75/75 - 0s - loss: 4.2802e-04 - accuracy: 1.0000 - val_loss: 0.0213 - val_accuracy: 0.9833\n",
      "Epoch 81/100\n",
      "75/75 - 0s - loss: 4.0352e-04 - accuracy: 1.0000 - val_loss: 0.0182 - val_accuracy: 0.9833\n",
      "Epoch 82/100\n",
      "75/75 - 0s - loss: 3.8264e-04 - accuracy: 1.0000 - val_loss: 0.0242 - val_accuracy: 0.9833\n"
     ]
    },
    {
     "name": "stdout",
     "output_type": "stream",
     "text": [
      "Epoch 83/100\n",
      "75/75 - 0s - loss: 3.6774e-04 - accuracy: 1.0000 - val_loss: 0.0296 - val_accuracy: 0.9833\n",
      "Epoch 84/100\n",
      "75/75 - 0s - loss: 3.4678e-04 - accuracy: 1.0000 - val_loss: 0.0246 - val_accuracy: 0.9833\n",
      "Epoch 85/100\n",
      "75/75 - 0s - loss: 3.3118e-04 - accuracy: 1.0000 - val_loss: 0.0236 - val_accuracy: 0.9833\n",
      "Epoch 86/100\n",
      "75/75 - 0s - loss: 3.1509e-04 - accuracy: 1.0000 - val_loss: 0.0231 - val_accuracy: 0.9833\n",
      "Epoch 87/100\n",
      "75/75 - 0s - loss: 3.0353e-04 - accuracy: 1.0000 - val_loss: 0.0265 - val_accuracy: 0.9833\n",
      "Epoch 88/100\n",
      "75/75 - 0s - loss: 2.8616e-04 - accuracy: 1.0000 - val_loss: 0.0205 - val_accuracy: 0.9833\n",
      "Epoch 89/100\n",
      "75/75 - 0s - loss: 2.7115e-04 - accuracy: 1.0000 - val_loss: 0.0277 - val_accuracy: 0.9833\n",
      "Epoch 90/100\n",
      "75/75 - 0s - loss: 2.6039e-04 - accuracy: 1.0000 - val_loss: 0.0272 - val_accuracy: 0.9833\n",
      "Epoch 91/100\n",
      "75/75 - 0s - loss: 2.5014e-04 - accuracy: 1.0000 - val_loss: 0.0194 - val_accuracy: 0.9833\n",
      "Epoch 92/100\n",
      "75/75 - 0s - loss: 2.3681e-04 - accuracy: 1.0000 - val_loss: 0.0182 - val_accuracy: 0.9833\n",
      "Epoch 93/100\n",
      "75/75 - 0s - loss: 2.2686e-04 - accuracy: 1.0000 - val_loss: 0.0245 - val_accuracy: 0.9833\n",
      "Epoch 94/100\n",
      "75/75 - 0s - loss: 2.2068e-04 - accuracy: 1.0000 - val_loss: 0.0214 - val_accuracy: 0.9833\n",
      "Epoch 95/100\n",
      "75/75 - 0s - loss: 2.0842e-04 - accuracy: 1.0000 - val_loss: 0.0187 - val_accuracy: 0.9833\n",
      "Epoch 96/100\n",
      "75/75 - 0s - loss: 1.9519e-04 - accuracy: 1.0000 - val_loss: 0.0227 - val_accuracy: 0.9833\n",
      "Epoch 97/100\n",
      "75/75 - 0s - loss: 1.8852e-04 - accuracy: 1.0000 - val_loss: 0.0233 - val_accuracy: 0.9833\n",
      "Epoch 98/100\n",
      "75/75 - 0s - loss: 1.7975e-04 - accuracy: 1.0000 - val_loss: 0.0236 - val_accuracy: 0.9833\n",
      "Epoch 99/100\n",
      "75/75 - 0s - loss: 1.7123e-04 - accuracy: 1.0000 - val_loss: 0.0263 - val_accuracy: 0.9833\n",
      "Epoch 100/100\n",
      "75/75 - 0s - loss: 1.6431e-04 - accuracy: 1.0000 - val_loss: 0.0222 - val_accuracy: 0.9833\n"
     ]
    }
   ],
   "source": [
    "train_history = model.fit(x=x_Train_norm, y=y_TrainOneHot, validation_split=0.001, epochs=100, batch_size=800, verbose=2)\n"
   ]
  },
  {
   "cell_type": "code",
   "execution_count": 59,
   "metadata": {},
   "outputs": [
    {
     "name": "stdout",
     "output_type": "stream",
     "text": [
      "313/313 [==============================] - 0s 923us/step - loss: 0.0981 - accuracy: 0.9796\n"
     ]
    }
   ],
   "source": [
    "scores = model.evaluate(x_Test_norm, y_TestOneHot)"
   ]
  },
  {
   "cell_type": "markdown",
   "metadata": {},
   "source": [
    "## after trainging, the accuracy was increased from 0.1358 to  0.9668"
   ]
  },
  {
   "cell_type": "code",
   "execution_count": 60,
   "metadata": {},
   "outputs": [
    {
     "name": "stdout",
     "output_type": "stream",
     "text": [
      "\t[Info] Accuracy of testing data = 98.0%\n"
     ]
    }
   ],
   "source": [
    "print(\"\\t[Info] Accuracy of testing data = {:2.1f}%\".format(scores[1]*100.0))\n"
   ]
  },
  {
   "cell_type": "markdown",
   "metadata": {},
   "source": [
    "### assess again"
   ]
  },
  {
   "cell_type": "code",
   "execution_count": 61,
   "metadata": {},
   "outputs": [],
   "source": [
    "img=cv2.imread('3.png', cv2.IMREAD_GRAYSCALE)"
   ]
  },
  {
   "cell_type": "code",
   "execution_count": 62,
   "metadata": {},
   "outputs": [],
   "source": [
    "crop_size = (28, 28)\n",
    "img = cv2.resize(img, crop_size, interpolation = cv2.INTER_CUBIC)"
   ]
  },
  {
   "cell_type": "code",
   "execution_count": 63,
   "metadata": {},
   "outputs": [],
   "source": [
    "img_2D = img.reshape(1,28*28).astype('float32')\n",
    "img_norm=img_2D/255\n",
    "img = img_norm\n",
    "predictions = model.predict(img)"
   ]
  },
  {
   "cell_type": "code",
   "execution_count": 64,
   "metadata": {},
   "outputs": [
    {
     "name": "stdout",
     "output_type": "stream",
     "text": [
      "[[5.5783940e-18 3.7994577e-29 1.2853012e-03 3.0815561e-04 0.0000000e+00\n",
      "  9.9840659e-01 1.6852350e-09 1.4015111e-15 6.1184054e-16 0.0000000e+00]]\n"
     ]
    }
   ],
   "source": [
    "print(predictions)"
   ]
  },
  {
   "cell_type": "code",
   "execution_count": 65,
   "metadata": {},
   "outputs": [],
   "source": [
    "img=cv2.imread('3.png', cv2.IMREAD_GRAYSCALE)"
   ]
  },
  {
   "cell_type": "code",
   "execution_count": 66,
   "metadata": {},
   "outputs": [
    {
     "data": {
      "text/plain": [
       "<matplotlib.image.AxesImage at 0x1c77feca850>"
      ]
     },
     "execution_count": 66,
     "metadata": {},
     "output_type": "execute_result"
    },
    {
     "data": {
      "image/png": "[encoded data removed]",
      "text/plain": [
       "<Figure size 432x288 with 1 Axes>"
      ]
     },
     "metadata": {
      "needs_background": "light"
     },
     "output_type": "display_data"
    }
   ],
   "source": [
    "# cv2.imshow(\"image\", img)\n",
    "plt.imshow(cv2.cvtColor(img, cv2.COLOR_BGR2RGB))"
   ]
  },
  {
   "cell_type": "code",
   "execution_count": 67,
   "metadata": {},
   "outputs": [],
   "source": [
    "#  cv2.waitKey(0)"
   ]
  },
  {
   "cell_type": "code",
   "execution_count": 68,
   "metadata": {},
   "outputs": [],
   "source": [
    "crop_size = (28, 28)\n",
    "img = cv2.resize(img, crop_size, interpolation = cv2.INTER_CUBIC)"
   ]
  },
  {
   "cell_type": "code",
   "execution_count": 69,
   "metadata": {},
   "outputs": [],
   "source": [
    "img_2D = img.reshape(1,28*28).astype('float32')\n",
    "img_norm=img_2D/255\n",
    "img = img_norm\n",
    "predictions = model.predict(img)\n"
   ]
  },
  {
   "cell_type": "code",
   "execution_count": 70,
   "metadata": {},
   "outputs": [
    {
     "name": "stdout",
     "output_type": "stream",
     "text": [
      "[[5.5783940e-18 3.7994577e-29 1.2853012e-03 3.0815561e-04 0.0000000e+00\n",
      "  9.9840659e-01 1.6852350e-09 1.4015111e-15 6.1184054e-16 0.0000000e+00]]\n"
     ]
    }
   ],
   "source": [
    "print(predictions)"
   ]
  },
  {
   "cell_type": "code",
   "execution_count": null,
   "metadata": {},
   "outputs": [],
   "source": []
  },
  {
   "cell_type": "code",
   "execution_count": null,
   "metadata": {},
   "outputs": [],
   "source": []
  },
  {
   "cell_type": "code",
   "execution_count": null,
   "metadata": {},
   "outputs": [],
   "source": []
  },
  {
   "cell_type": "code",
   "execution_count": null,
   "metadata": {},
   "outputs": [],
   "source": []
  },
  {
   "cell_type": "code",
   "execution_count": null,
   "metadata": {},
   "outputs": [],
   "source": []
  },
  {
   "cell_type": "code",
   "execution_count": null,
   "metadata": {},
   "outputs": [],
   "source": []
  },
  {
   "cell_type": "code",
   "execution_count": null,
   "metadata": {},
   "outputs": [],
   "source": []
  },
  {
   "cell_type": "code",
   "execution_count": null,
   "metadata": {},
   "outputs": [],
   "source": []
  },
  {
   "cell_type": "code",
   "execution_count": null,
   "metadata": {},
   "outputs": [],
   "source": []
  },
  {
   "cell_type": "code",
   "execution_count": null,
   "metadata": {},
   "outputs": [],
   "source": []
  },
  {
   "cell_type": "code",
   "execution_count": null,
   "metadata": {},
   "outputs": [],
   "source": []
  },
  {
   "cell_type": "code",
   "execution_count": null,
   "metadata": {},
   "outputs": [],
   "source": []
  }
 ],
 "metadata": {
  "kernelspec": {
   "display_name": "Python 3 (ipykernel)",
   "language": "python",
   "name": "python3"
  },
  "language_info": {
   "codemirror_mode": {
    "name": "ipython",
    "version": 3
   },
   "file_extension": ".py",
   "mimetype": "text/x-python",
   "name": "python",
   "nbconvert_exporter": "python",
   "pygments_lexer": "ipython3",
   "version": "3.9.7"
  }
 },
 "nbformat": 4,
 "nbformat_minor": 4
}

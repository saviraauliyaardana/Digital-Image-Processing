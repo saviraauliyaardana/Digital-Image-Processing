{
 "cells": [
  {
   "cell_type": "markdown",
   "id": "4bd0c672",
   "metadata": {},
   "source": [
    " 1. [Fuzzy Sugeno](#1.-Fuzzy-Sugeno)"
   ]
  },
  {
   "cell_type": "code",
   "execution_count": 1,
   "id": "7dcc51ef",
   "metadata": {},
   "outputs": [
    {
     "ename": "OSError",
     "evalue": "[WinError 127] The specified procedure could not be found: 'C:\\\\Users\\\\lenovo\\\\miniconda3\\\\lib\\\\site-packages\\\\numpy\\\\.libs'",
     "output_type": "error",
     "traceback": [
      "\u001b[1;31m---------------------------------------------------------------------------\u001b[0m",
      "\u001b[1;31mOSError\u001b[0m                                   Traceback (most recent call last)",
      "\u001b[1;32m~\\AppData\\Local\\Temp/ipykernel_4824/2151744951.py\u001b[0m in \u001b[0;36m<module>\u001b[1;34m\u001b[0m\n\u001b[1;32m----> 1\u001b[1;33m \u001b[1;32mimport\u001b[0m \u001b[0mpandas\u001b[0m \u001b[1;32mas\u001b[0m \u001b[0mpd\u001b[0m\u001b[1;33m\u001b[0m\u001b[1;33m\u001b[0m\u001b[0m\n\u001b[0m\u001b[0;32m      2\u001b[0m \u001b[1;32mimport\u001b[0m \u001b[0mnumpy\u001b[0m \u001b[1;32mas\u001b[0m \u001b[0mnp\u001b[0m\u001b[1;33m\u001b[0m\u001b[1;33m\u001b[0m\u001b[0m\n\u001b[0;32m      3\u001b[0m \u001b[1;32mimport\u001b[0m \u001b[0mmatplotlib\u001b[0m\u001b[1;33m.\u001b[0m\u001b[0mpyplot\u001b[0m \u001b[1;32mas\u001b[0m \u001b[0mplt\u001b[0m\u001b[1;33m\u001b[0m\u001b[1;33m\u001b[0m\u001b[0m\n",
      "\u001b[1;32m~\\miniconda3\\lib\\site-packages\\pandas\\__init__.py\u001b[0m in \u001b[0;36m<module>\u001b[1;34m\u001b[0m\n\u001b[0;32m      9\u001b[0m \u001b[1;32mfor\u001b[0m \u001b[0mdependency\u001b[0m \u001b[1;32min\u001b[0m \u001b[0mhard_dependencies\u001b[0m\u001b[1;33m:\u001b[0m\u001b[1;33m\u001b[0m\u001b[1;33m\u001b[0m\u001b[0m\n\u001b[0;32m     10\u001b[0m     \u001b[1;32mtry\u001b[0m\u001b[1;33m:\u001b[0m\u001b[1;33m\u001b[0m\u001b[1;33m\u001b[0m\u001b[0m\n\u001b[1;32m---> 11\u001b[1;33m         \u001b[0m__import__\u001b[0m\u001b[1;33m(\u001b[0m\u001b[0mdependency\u001b[0m\u001b[1;33m)\u001b[0m\u001b[1;33m\u001b[0m\u001b[1;33m\u001b[0m\u001b[0m\n\u001b[0m\u001b[0;32m     12\u001b[0m     \u001b[1;32mexcept\u001b[0m \u001b[0mImportError\u001b[0m \u001b[1;32mas\u001b[0m \u001b[0me\u001b[0m\u001b[1;33m:\u001b[0m\u001b[1;33m\u001b[0m\u001b[1;33m\u001b[0m\u001b[0m\n\u001b[0;32m     13\u001b[0m         \u001b[0mmissing_dependencies\u001b[0m\u001b[1;33m.\u001b[0m\u001b[0mappend\u001b[0m\u001b[1;33m(\u001b[0m\u001b[1;34mf\"{dependency}: {e}\"\u001b[0m\u001b[1;33m)\u001b[0m\u001b[1;33m\u001b[0m\u001b[1;33m\u001b[0m\u001b[0m\n",
      "\u001b[1;32m~\\miniconda3\\lib\\site-packages\\numpy\\__init__.py\u001b[0m in \u001b[0;36m<module>\u001b[1;34m\u001b[0m\n\u001b[0;32m    125\u001b[0m \u001b[1;32melse\u001b[0m\u001b[1;33m:\u001b[0m\u001b[1;33m\u001b[0m\u001b[1;33m\u001b[0m\u001b[0m\n\u001b[0;32m    126\u001b[0m     \u001b[1;32mtry\u001b[0m\u001b[1;33m:\u001b[0m\u001b[1;33m\u001b[0m\u001b[1;33m\u001b[0m\u001b[0m\n\u001b[1;32m--> 127\u001b[1;33m         \u001b[1;32mfrom\u001b[0m \u001b[0mnumpy\u001b[0m\u001b[1;33m.\u001b[0m\u001b[0m__config__\u001b[0m \u001b[1;32mimport\u001b[0m \u001b[0mshow\u001b[0m \u001b[1;32mas\u001b[0m \u001b[0mshow_config\u001b[0m\u001b[1;33m\u001b[0m\u001b[1;33m\u001b[0m\u001b[0m\n\u001b[0m\u001b[0;32m    128\u001b[0m     \u001b[1;32mexcept\u001b[0m \u001b[0mImportError\u001b[0m \u001b[1;32mas\u001b[0m \u001b[0me\u001b[0m\u001b[1;33m:\u001b[0m\u001b[1;33m\u001b[0m\u001b[1;33m\u001b[0m\u001b[0m\n\u001b[0;32m    129\u001b[0m         msg = \"\"\"Error importing numpy: you should not try to import numpy from\n",
      "\u001b[1;32m~\\miniconda3\\lib\\site-packages\\numpy\\__config__.py\u001b[0m in \u001b[0;36m<module>\u001b[1;34m\u001b[0m\n\u001b[0;32m     11\u001b[0m \u001b[1;32mif\u001b[0m \u001b[0msys\u001b[0m\u001b[1;33m.\u001b[0m\u001b[0mplatform\u001b[0m \u001b[1;33m==\u001b[0m \u001b[1;34m'win32'\u001b[0m \u001b[1;32mand\u001b[0m \u001b[0mos\u001b[0m\u001b[1;33m.\u001b[0m\u001b[0mpath\u001b[0m\u001b[1;33m.\u001b[0m\u001b[0misdir\u001b[0m\u001b[1;33m(\u001b[0m\u001b[0mextra_dll_dir\u001b[0m\u001b[1;33m)\u001b[0m\u001b[1;33m:\u001b[0m\u001b[1;33m\u001b[0m\u001b[1;33m\u001b[0m\u001b[0m\n\u001b[0;32m     12\u001b[0m     \u001b[1;32mif\u001b[0m \u001b[0msys\u001b[0m\u001b[1;33m.\u001b[0m\u001b[0mversion_info\u001b[0m \u001b[1;33m>=\u001b[0m \u001b[1;33m(\u001b[0m\u001b[1;36m3\u001b[0m\u001b[1;33m,\u001b[0m \u001b[1;36m8\u001b[0m\u001b[1;33m)\u001b[0m\u001b[1;33m:\u001b[0m\u001b[1;33m\u001b[0m\u001b[1;33m\u001b[0m\u001b[0m\n\u001b[1;32m---> 13\u001b[1;33m         \u001b[0mos\u001b[0m\u001b[1;33m.\u001b[0m\u001b[0madd_dll_directory\u001b[0m\u001b[1;33m(\u001b[0m\u001b[0mextra_dll_dir\u001b[0m\u001b[1;33m)\u001b[0m\u001b[1;33m\u001b[0m\u001b[1;33m\u001b[0m\u001b[0m\n\u001b[0m\u001b[0;32m     14\u001b[0m     \u001b[1;32melse\u001b[0m\u001b[1;33m:\u001b[0m\u001b[1;33m\u001b[0m\u001b[1;33m\u001b[0m\u001b[0m\n\u001b[0;32m     15\u001b[0m         \u001b[0mos\u001b[0m\u001b[1;33m.\u001b[0m\u001b[0menviron\u001b[0m\u001b[1;33m.\u001b[0m\u001b[0msetdefault\u001b[0m\u001b[1;33m(\u001b[0m\u001b[1;34m'PATH'\u001b[0m\u001b[1;33m,\u001b[0m \u001b[1;34m''\u001b[0m\u001b[1;33m)\u001b[0m\u001b[1;33m\u001b[0m\u001b[1;33m\u001b[0m\u001b[0m\n",
      "\u001b[1;32m~\\miniconda3\\lib\\os.py\u001b[0m in \u001b[0;36madd_dll_directory\u001b[1;34m(path)\u001b[0m\n\u001b[0;32m   1107\u001b[0m         \"\"\"\n\u001b[0;32m   1108\u001b[0m         \u001b[1;32mimport\u001b[0m \u001b[0mnt\u001b[0m\u001b[1;33m\u001b[0m\u001b[1;33m\u001b[0m\u001b[0m\n\u001b[1;32m-> 1109\u001b[1;33m         \u001b[0mcookie\u001b[0m \u001b[1;33m=\u001b[0m \u001b[0mnt\u001b[0m\u001b[1;33m.\u001b[0m\u001b[0m_add_dll_directory\u001b[0m\u001b[1;33m(\u001b[0m\u001b[0mpath\u001b[0m\u001b[1;33m)\u001b[0m\u001b[1;33m\u001b[0m\u001b[1;33m\u001b[0m\u001b[0m\n\u001b[0m\u001b[0;32m   1110\u001b[0m         return _AddedDllDirectory(\n\u001b[0;32m   1111\u001b[0m             \u001b[0mpath\u001b[0m\u001b[1;33m,\u001b[0m\u001b[1;33m\u001b[0m\u001b[1;33m\u001b[0m\u001b[0m\n",
      "\u001b[1;31mOSError\u001b[0m: [WinError 127] The specified procedure could not be found: 'C:\\\\Users\\\\lenovo\\\\miniconda3\\\\lib\\\\site-packages\\\\numpy\\\\.libs'"
     ]
    }
   ],
   "source": [
    "import pandas as pd\n",
    "import numpy as np\n",
    "import matplotlib.pyplot as plt"
   ]
  },
  {
   "cell_type": "markdown",
   "id": "dcbef71c",
   "metadata": {},
   "source": [
    "#### nim = 190602043\n",
    "gaji = 43 * 20000\n",
    "masa_kerja = 7 + 3"
   ]
  },
  {
   "cell_type": "code",
   "execution_count": null,
   "id": "15f0d8f0",
   "metadata": {},
   "outputs": [],
   "source": [
    "data = pd.DataFrame({\n",
    "    'Gaji' : [i*20000 for i in range(100)],\n",
    "    'Masa_Kerja' : [(i % 10) + 7 for i in range(100)]\n",
    "})"
   ]
  },
  {
   "cell_type": "code",
   "execution_count": null,
   "id": "f1c9b9c7",
   "metadata": {},
   "outputs": [],
   "source": [
    "data[:30]"
   ]
  },
  {
   "cell_type": "code",
   "execution_count": null,
   "id": "9d062c8c",
   "metadata": {},
   "outputs": [],
   "source": [
    "print('Gaji:', data.Gaji[43])\n",
    "print('Masa_Kerja:', data.Masa_Kerja[43])"
   ]
  },
  {
   "cell_type": "markdown",
   "id": "37aa787b",
   "metadata": {},
   "source": [
    "# 1. Fuzzy Sugeno"
   ]
  },
  {
   "cell_type": "code",
   "execution_count": null,
   "id": "930023b8",
   "metadata": {
    "scrolled": true
   },
   "outputs": [],
   "source": [
    "g_rendah_x = [0, 300, 800, 2300]\n",
    "g_rendah_y = [1, 1, 0, 0]\n",
    "g_sedang_x = [0, 500, 1000, 1500, 2300]\n",
    "g_sedang_y = [0, 0, 1, 0, 0]\n",
    "g_tinggi_x = [0, 1000, 2000, 2300]\n",
    "g_tinggi_y = [0, 0, 1, 1]\n",
    "\n",
    "mk_baru_x = [0, 5, 15, 30]\n",
    "mk_baru_y = [1, 1, 0, 0]\n",
    "mk_lama_x = [0, 10, 25, 30]\n",
    "mk_lama_y = [0, 0, 1, 1]\n",
    "\n",
    "fig, ax = plt.subplots(figsize=(20, 5), ncols=2)\n",
    "ax[0].plot(g_rendah_x, g_rendah_y)\n",
    "ax[0].plot(g_sedang_x, g_sedang_y)\n",
    "ax[0].plot(g_tinggi_x, g_tinggi_y)\n",
    "ax[0].set_xticks([300, 500, 800, 1000, 1500, 2000])\n",
    "ax[0].set_yticks([0, 1])\n",
    "ax[0].set_title('Gaji')\n",
    "ax[0].set_xlabel('Gaji (x1000 rupiah/bulan)')\n",
    "ax[0].set_ylabel('μ(x)')\n",
    "\n",
    "ax[0].grid(True)\n",
    "\n",
    "ax[1].plot(mk_baru_x, mk_baru_y)\n",
    "ax[1].plot(mk_lama_x, mk_lama_y)\n",
    "ax[1].set_xticks([0, 5, 10, 15, 25])\n",
    "ax[1].set_yticks([0, 1])\n",
    "ax[1].set_title('Masa Kerja')\n",
    "ax[1].set_xlabel('Masa Kerja (Tahun)')\n",
    "ax[1].set_ylabel('μ(x)')\n",
    "ax[1].grid(True)\n",
    "\n",
    "plt.show()"
   ]
  },
  {
   "cell_type": "markdown",
   "id": "3689c74f",
   "metadata": {},
   "source": []
  },
  {
   "cell_type": "code",
   "execution_count": null,
   "id": "a1a01d73",
   "metadata": {},
   "outputs": [],
   "source": [
    "def gaji_rendah_value(gaji):\n",
    "    x = gaji\n",
    "    a, b = 300000, 800000\n",
    "    if x < a: \n",
    "        nilai = 1\n",
    "    if a <= x and x <= b: \n",
    "        nilai = (b - x) / (b - a)\n",
    "    if x > b:\n",
    "        nilai = 0\n",
    "    return nilai\n",
    "def gaji_sedang_value(gaji):\n",
    "    x = gaji\n",
    "    a, b, c = 500000, 1000000, 1500000\n",
    "    if x < a or x > b:\n",
    "        nilai = 0\n",
    "    if a <= x and x <= b:\n",
    "        nilai = (x - a) / (b - a)\n",
    "    if b <= x and x <= c:\n",
    "        nilai = (c - x) / (c - b)\n",
    "    return nilai\n",
    "def gaji_tinggi_value(gaji):\n",
    "    x = gaji\n",
    "    a, b = 1000000, 2000000\n",
    "    if x < a:\n",
    "        nilai = 0\n",
    "    if a <= x and x <= b:\n",
    "        nilai = (x - a) / (b - a)\n",
    "    if x > b:\n",
    "        nilai = 1\n",
    "    return nilai"
   ]
  },
  {
   "cell_type": "code",
   "execution_count": null,
   "id": "9cef24ea",
   "metadata": {},
   "outputs": [],
   "source": [
    "def masa_kerja_baru_value(masa_kerja):\n",
    "    x = masa_kerja\n",
    "    a, b = 5, 15\n",
    "    if x < a:\n",
    "        nilai = 1\n",
    "    if a <= x and x <= b:\n",
    "        nilai = (b - x) / (b - a)\n",
    "    if x > b:\n",
    "        nilai = 0\n",
    "    return nilai\n",
    "def masa_kerja_lama_value(masa_kerja):\n",
    "    x = masa_kerja\n",
    "    a, b = 10, 25\n",
    "    if x < a:\n",
    "        nilai = 0\n",
    "    if a <= x and x <= b:\n",
    "        nilai = (x - a) / (b - a)\n",
    "    if x > b:\n",
    "        nilai = 1\n",
    "    return nilai"
   ]
  },
  {
   "cell_type": "markdown",
   "id": "153b55f1",
   "metadata": {},
   "source": [
    "## Fuzzification"
   ]
  },
  {
   "cell_type": "code",
   "execution_count": null,
   "id": "dad64339",
   "metadata": {},
   "outputs": [],
   "source": [
    "def gaji_fuzzification(gaji_value):\n",
    "    gaji_set = np.array([])\n",
    "    gaji_set = np.append(gaji_set, gaji_rendah_value(gaji_value))\n",
    "    gaji_set = np.append(gaji_set, gaji_sedang_value(gaji_value))\n",
    "    gaji_set = np.append(gaji_set, gaji_tinggi_value(gaji_value))\n",
    "    return gaji_set\n",
    "def masa_kerja_fuzzification(masa_kerja_value):\n",
    "    masa_kerja_set = np.array([])\n",
    "    masa_kerja_set = np.append(masa_kerja_set, masa_kerja_baru_value(masa_kerja_value))\n",
    "    masa_kerja_set = np.append(masa_kerja_set, masa_kerja_lama_value(masa_kerja_value))\n",
    "    return masa_kerja_set"
   ]
  },
  {
   "cell_type": "markdown",
   "id": "cba89abd",
   "metadata": {},
   "source": [
    "## Inference"
   ]
  },
  {
   "cell_type": "code",
   "execution_count": null,
   "id": "99e77262",
   "metadata": {},
   "outputs": [],
   "source": [
    "def inference_sugeno(gaji_set, masa_kerja_set, gaji, masa_kerja):\n",
    "    inference, z = np.array([]), np.array([])\n",
    "    \n",
    "    inference = np.append(inference, np.min(np.append(gaji_set[0], masa_kerja_set[0])))\n",
    "    inference = np.append(inference, np.min(np.append(gaji_set[0], masa_kerja_set[1])))\n",
    "    inference = np.append(inference, np.min(np.append(gaji_set[1], masa_kerja_set[0])))\n",
    "    inference = np.append(inference, np.min(np.append(gaji_set[1], masa_kerja_set[1])))\n",
    "    inference = np.append(inference, np.min(np.append(gaji_set[2], masa_kerja_set[0])))\n",
    "    inference = np.append(inference, np.min(np.append(gaji_set[2], masa_kerja_set[1])))\n",
    "    \n",
    "    z = np.append(z, gaji)\n",
    "    z = np.append(z, gaji + 150000)\n",
    "    z = np.append(z, 1350000)\n",
    "    z = np.append(z, 1600000 + 40000 * 10)\n",
    "    z = np.append(z, 1500000)\n",
    "    z = np.append(z, 1500000 + 100000 * 10)\n",
    "    \n",
    "    return pd.DataFrame({\n",
    "        \"Inference\": inference,\n",
    "        \"Z\": z\n",
    "    })"
   ]
  },
  {
   "cell_type": "markdown",
   "id": "017c5ec4",
   "metadata": {},
   "source": [
    "## Defuzzification"
   ]
  },
  {
   "cell_type": "code",
   "execution_count": null,
   "id": "a95580cc",
   "metadata": {},
   "outputs": [],
   "source": [
    "def defuzzification(inference):\n",
    "    multiplier = np.sum(np.array([inference.Inference[i] * inference.Z[i] for i in range(len(inference))]))\n",
    "    divider = np.sum(np.array([inference.Inference[i]for i in range(len(inference))]))\n",
    "    return multiplier / divider"
   ]
  },
  {
   "cell_type": "markdown",
   "id": "ece48c92",
   "metadata": {},
   "source": [
    "## Main"
   ]
  },
  {
   "cell_type": "code",
   "execution_count": null,
   "id": "82264ed8",
   "metadata": {
    "scrolled": true
   },
   "outputs": [],
   "source": [
    "def result(data):\n",
    "    gaji = data.Gaji\n",
    "    masa_kerja = data.Masa_Kerja\n",
    "    result = np.array([])\n",
    "    for i in range(len(data)):\n",
    "        gaji_fuzzy = gaji_fuzzification(gaji[i])\n",
    "        masa_kerja_fuzzy = masa_kerja_fuzzification(masa_kerja[i])\n",
    "        inference = inference_sugeno(gaji_fuzzy, masa_kerja_fuzzy, gaji[i], masa_kerja[i])\n",
    "        result = np.append(result, defuzzification(inference))\n",
    "    data['Bonus'] = result\n",
    "    return data"
   ]
  },
  {
   "cell_type": "code",
   "execution_count": null,
   "id": "ed13ec73",
   "metadata": {},
   "outputs": [],
   "source": [
    "result = result(data)"
   ]
  },
  {
   "cell_type": "code",
   "execution_count": null,
   "id": "b6160723",
   "metadata": {},
   "outputs": [],
   "source": [
    "pd.options.display.float_format = '{:.2f}'.format"
   ]
  },
  {
   "cell_type": "code",
   "execution_count": 3,
   "id": "acd0b2be",
   "metadata": {},
   "outputs": [
    {
     "ename": "NameError",
     "evalue": "name 'result' is not defined",
     "output_type": "error",
     "traceback": [
      "\u001b[1;31m---------------------------------------------------------------------------\u001b[0m",
      "\u001b[1;31mNameError\u001b[0m                                 Traceback (most recent call last)",
      "\u001b[1;32m~\\AppData\\Local\\Temp/ipykernel_3452/561103421.py\u001b[0m in \u001b[0;36m<module>\u001b[1;34m\u001b[0m\n\u001b[1;32m----> 1\u001b[1;33m \u001b[0mresult\u001b[0m\u001b[1;33m.\u001b[0m\u001b[0miloc\u001b[0m\u001b[1;33m[\u001b[0m\u001b[1;36m4\u001b[0m\u001b[1;33m]\u001b[0m\u001b[1;33m\u001b[0m\u001b[1;33m\u001b[0m\u001b[0m\n\u001b[0m",
      "\u001b[1;31mNameError\u001b[0m: name 'result' is not defined"
     ]
    }
   ],
   "source": [
    "result.iloc[4]"
   ]
  },
  {
   "cell_type": "markdown",
   "id": "cca0730e",
   "metadata": {},
   "source": [
    "# Fuzzy Tsukamoto"
   ]
  },
  {
   "cell_type": "code",
   "execution_count": null,
   "id": "8d3f643c",
   "metadata": {},
   "outputs": [],
   "source": [
    "kehadiran_rendah_x = [0, 1, 20, 31]\n",
    "kehadiran_rendah_y = [1, 1, 0, 0]\n",
    "kehadiran_tinggi_x = [0, 15, 30, 31]\n",
    "kehadiran_tinggi_y = [0, 0, 1, 1]\n",
    "\n",
    "bonus_sedikit_x = [0, 860, 1700, 4100]\n",
    "bonus_sedikit_y = [1, 1, 0, 0]\n",
    "bonus_banyak_x = [0, 1300, 3900, 4100]\n",
    "bonus_banyak_y = [0, 0, 1, 1]\n",
    "\n",
    "fig, ax = plt.subplots(figsize=(20, 10), nrows=2, ncols=2)\n",
    "ax[0][0].plot(g_rendah_x, g_rendah_y)\n",
    "ax[0][0].plot(g_sedang_x, g_sedang_y)\n",
    "ax[0][0].plot(g_tinggi_x, g_tinggi_y)\n",
    "ax[0][0].set_xticks([300, 500, 800, 1000, 1500, 2000])\n",
    "ax[0][0].set_yticks([0, 1])\n",
    "ax[0][0].set_title('Gaji')\n",
    "ax[0][0].set_xlabel('Gaji (x1000 rupiah/bulan)')\n",
    "ax[0][0].set_ylabel('μ(x)')\n",
    "ax[0][0].grid(True)\n",
    "\n",
    "ax[0][1].plot(mk_baru_x, mk_baru_y)\n",
    "ax[0][1].plot(mk_lama_x, mk_lama_y)\n",
    "ax[0][1].set_xticks([0, 5, 10, 15, 25])\n",
    "ax[0][1].set_yticks([0, 1])\n",
    "ax[0][1].set_title('Masa Kerja')\n",
    "ax[0][1].set_xlabel('Masa Kerja (Tahun)')\n",
    "ax[0][1].set_ylabel('μ(x)')\n",
    "ax[0][1].grid(True)\n",
    "\n",
    "ax[1][0].plot(kehadiran_rendah_x, kehadiran_rendah_y)\n",
    "ax[1][0].plot(kehadiran_tinggi_x, kehadiran_tinggi_y)\n",
    "ax[1][0].set_xticks([1, 15, 20, 30])\n",
    "ax[1][0].set_yticks([0, 1])\n",
    "ax[1][0].set_title('Kehadiran')\n",
    "ax[1][0].set_xlabel('Kehadiran')\n",
    "ax[1][0].set_ylabel('μ(x)')\n",
    "ax[1][0].grid(True)\n",
    "\n",
    "ax[1][1].plot(bonus_sedikit_x, bonus_sedikit_y)\n",
    "ax[1][1].plot(bonus_banyak_x, bonus_banyak_y)\n",
    "ax[1][1].set_xticks([860, 1300, 1700, 3900])\n",
    "ax[1][1].set_yticks([0, 1])\n",
    "ax[1][1].set_title('bonus')\n",
    "ax[1][1].set_xlabel('bonus')\n",
    "ax[1][1].set_ylabel('μ(x)')\n",
    "ax[1][1].grid(True)\n",
    "\n",
    "plt.show()"
   ]
  },
  {
   "cell_type": "code",
   "execution_count": null,
   "id": "d0df2702",
   "metadata": {},
   "outputs": [],
   "source": [
    "def kehadiran_rendah_value(bonus):\n",
    "    x = bonus\n",
    "    a, b = 860, 1700\n",
    "    if x < a: \n",
    "        nilai = 1\n",
    "    if a <= x and x <= b: \n",
    "        nilai = (b - x) / (b - a)\n",
    "    if x > b:\n",
    "        nilai = 0\n",
    "    return nilai\n",
    "def kehadiran_tinggi_value(bonus):\n",
    "    x = bonus\n",
    "    a, b = 1300, 3900\n",
    "    if x < a:\n",
    "        nilai = 0\n",
    "    if a <= x and x <= b:\n",
    "        nilai = (x - a) / (b - a)\n",
    "    if x > b:\n",
    "        nilai = 1\n",
    "    return nilai"
   ]
  },
  {
   "cell_type": "code",
   "execution_count": null,
   "id": "858dd588",
   "metadata": {},
   "outputs": [],
   "source": [
    "def bonus_banyak_value(bonus):\n",
    "    x = bonus\n",
    "    a, b = 860, 1700\n",
    "    if x < a: \n",
    "        nilai = 1\n",
    "    if a <= x and x <= b: \n",
    "        nilai = (b - x) / (b - a)\n",
    "    if x > b:\n",
    "        nilai = 0\n",
    "    return nilai\n",
    "def bonus_banyak_value(bonus):\n",
    "    x = bonus\n",
    "    a, b = 1300, 30\n",
    "    if x < a:\n",
    "        nilai = 0\n",
    "    if a <= x and x <= b:\n",
    "        nilai = (x - a) / (b - a)\n",
    "    if x > b:\n",
    "        nilai = 1\n",
    "    return nilai"
   ]
  },
  {
   "cell_type": "markdown",
   "id": "49f7d8e8",
   "metadata": {},
   "source": [
    "## Fuzzification"
   ]
  },
  {
   "cell_type": "code",
   "execution_count": null,
   "id": "59c78821",
   "metadata": {},
   "outputs": [],
   "source": [
    "def kehadiran_fuzzification(kehadiran_value):\n",
    "    kehadiran_set = np.array([])\n",
    "    kehadiran_set = np.append(kehadiran_set, kehadiran_rendah_value(kehadiran_value))\n",
    "    kehadiran_set = np.append(kehadiran_set, kehadiran_tinggi_value(kehadiran_value))\n",
    "    return kehadiran_set\n",
    "def bonus_fuzzification(bonus_value):\n",
    "    bonus_set = np.array([])\n",
    "    bonus_set = np.append(bonus_set, bonus_sedikit_value(bonus_value))\n",
    "    bonus_set = np.append(bonus_set, bonus_banyak_value(bonus_value))\n",
    "    return bonus_set"
   ]
  },
  {
   "cell_type": "markdown",
   "id": "08911714",
   "metadata": {},
   "source": [
    "## Inference"
   ]
  },
  {
   "cell_type": "code",
   "execution_count": null,
   "id": "bd911546",
   "metadata": {},
   "outputs": [],
   "source": [
    "def inference_f(gaji_set, masa_kerja_set, gaji, masa_kerja):\n",
    "    inference, z = np.array([]), np.array([])\n",
    "    \n",
    "    inference = np.append(inference, np.min(np.append(gaji_set[0], masa_kerja_set[0])))\n",
    "    inference = np.append(inference, np.min(np.append(gaji_set[0], masa_kerja_set[1])))\n",
    "    inference = np.append(inference, np.min(np.append(gaji_set[1], masa_kerja_set[0])))\n",
    "    inference = np.append(inference, np.min(np.append(gaji_set[1], masa_kerja_set[1])))\n",
    "    inference = np.append(inference, np.min(np.append(gaji_set[2], masa_kerja_set[0])))\n",
    "    inference = np.append(inference, np.min(np.append(gaji_set[2], masa_kerja_set[1])))\n",
    "    \n",
    "    z = np.append(z, gaji)\n",
    "    z = np.append(z, gaji + 150000)\n",
    "    z = np.append(z, 1350000)\n",
    "    z = np.append(z, 1600000 + 40000 * 10)\n",
    "    z = np.append(z, 1500000)\n",
    "    z = np.append(z, 1500000 + 100000 * 10)\n",
    "    \n",
    "    return pd.DataFrame({\n",
    "        \"Inference\": inference,\n",
    "        \"Z\": z\n",
    "    })"
   ]
  },
  {
   "cell_type": "markdown",
   "id": "c282393b",
   "metadata": {},
   "source": [
    "## Defuzzification"
   ]
  },
  {
   "cell_type": "code",
   "execution_count": null,
   "id": "0d7357ad",
   "metadata": {},
   "outputs": [],
   "source": [
    "def defuzzification(inference):\n",
    "    multiplier = np.sum(np.array([inference.Inference[i] * inference.Z[i] for i in range(len(inference))]))\n",
    "    divider = np.sum(np.array([inference.Inference[i]for i in range(len(inference))]))\n",
    "    return multiplier / divider"
   ]
  },
  {
   "cell_type": "markdown",
   "id": "ab1a804e",
   "metadata": {},
   "source": [
    "## Main"
   ]
  },
  {
   "cell_type": "code",
   "execution_count": null,
   "id": "ddc71224",
   "metadata": {
    "scrolled": true
   },
   "outputs": [],
   "source": [
    "def result(data):\n",
    "    gaji = data.Gaji\n",
    "    masa_kerja = data.Masa_Kerja\n",
    "    result = np.array([])\n",
    "    for i in range(len(data)):\n",
    "        gaji_fuzzy = gaji_fuzzification(gaji[i])\n",
    "        masa_kerja_fuzzy = masa_kerja_fuzzification(masa_kerja[i])\n",
    "        inference = inference_sugeno(gaji_fuzzy, masa_kerja_fuzzy, gaji[i], masa_kerja[i])\n",
    "        result = np.append(result, defuzzification(inference))\n",
    "    data['Bonus'] = result\n",
    "    return data"
   ]
  },
  {
   "cell_type": "code",
   "execution_count": null,
   "id": "6934b13d",
   "metadata": {},
   "outputs": [],
   "source": [
    "result = result(data)"
   ]
  },
  {
   "cell_type": "code",
   "execution_count": null,
   "id": "c793a6c3",
   "metadata": {},
   "outputs": [],
   "source": [
    "pd.options.display.float_format = '{:.2f}'.format"
   ]
  },
  {
   "cell_type": "code",
   "execution_count": null,
   "id": "69e29e70",
   "metadata": {},
   "outputs": [],
   "source": [
    "result.iloc[4]"
   ]
  },
  {
   "cell_type": "code",
   "execution_count": null,
   "id": "7b5b582b",
   "metadata": {},
   "outputs": [],
   "source": []
  },
  {
   "cell_type": "code",
   "execution_count": null,
   "id": "408cc4cb",
   "metadata": {},
   "outputs": [],
   "source": [
    "NYERAHHH SAVVVVVVVVVVVVVVVVVVVVVVVVVVVVVVVVVVVVVV NGANTUKK AKUUUUUUUUUUUUU,, yws mas gpp makasih yo"
   ]
  }
 ],
 "metadata": {
  "kernelspec": {
   "display_name": "Python 3 (ipykernel)",
   "language": "python",
   "name": "python3"
  },
  "language_info": {
   "codemirror_mode": {
    "name": "ipython",
    "version": 3
   },
   "file_extension": ".py",
   "mimetype": "text/x-python",
   "name": "python",
   "nbconvert_exporter": "python",
   "pygments_lexer": "ipython3",
   "version": "3.8.10"
  }
 },
 "nbformat": 4,
 "nbformat_minor": 5
}
